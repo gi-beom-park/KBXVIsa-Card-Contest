{
 "cells": [
  {
   "cell_type": "markdown",
   "metadata": {},
   "source": [
    "# 기상청 단기예보 , 초단기실황 데이터 분석 (18.01~18.12)\n",
    "### 전처리과정 거친 데이터 사용해서 분석\n",
    "### 고객 Weather카드 사용하는 상황에 대한 시뮬레이션 분석"
   ]
  },
  {
   "cell_type": "code",
   "execution_count": 1,
   "metadata": {},
   "outputs": [],
   "source": [
    "import pandas as pd\n",
    "import numpy as np\n",
    "import datetime as dt\n",
    "from datetime import datetime\n",
    "import time"
   ]
  },
  {
   "cell_type": "code",
   "execution_count": 41,
   "metadata": {},
   "outputs": [],
   "source": [
    "s_real= pd.read_csv('D:/INC/Desktop/공모전/KB 국민카드/기상데이터/s_real.csv' ,index_col='new_date')"
   ]
  },
  {
   "cell_type": "code",
   "execution_count": 42,
   "metadata": {},
   "outputs": [],
   "source": [
    "s_forecast= pd.read_csv('D:/INC/Desktop/공모전/KB 국민카드/기상데이터/s_forecast.csv')"
   ]
  },
  {
   "cell_type": "markdown",
   "metadata": {},
   "source": [
    "## 1) 23시에 발표한 다음날 18시에 대한 예보 적중률 계산"
   ]
  },
  {
   "cell_type": "markdown",
   "metadata": {},
   "source": [
    "### 23시 발표한 데이터만 불러오기"
   ]
  },
  {
   "cell_type": "code",
   "execution_count": 43,
   "metadata": {},
   "outputs": [],
   "source": [
    "liss = []\n",
    "for i in range(len(s_forecast)):\n",
    "    if pd.to_datetime(s_forecast.new_date[i]).hour == 23:\n",
    "        liss.append(i)\n",
    "\n",
    "        "
   ]
  },
  {
   "cell_type": "code",
   "execution_count": 44,
   "metadata": {},
   "outputs": [],
   "source": [
    "s_forecast_23hr = s_forecast.iloc[liss]"
   ]
  },
  {
   "cell_type": "markdown",
   "metadata": {},
   "source": [
    "### 다음날 18시 예보 적중률 (퇴근시간) + 19hr 측정"
   ]
  },
  {
   "cell_type": "code",
   "execution_count": 45,
   "metadata": {},
   "outputs": [
    {
     "name": "stderr",
     "output_type": "stream",
     "text": [
      "C:\\Users\\INC\\Anaconda3\\lib\\site-packages\\ipykernel_launcher.py:2: SettingWithCopyWarning: \n",
      "A value is trying to be set on a copy of a slice from a DataFrame.\n",
      "Try using .loc[row_indexer,col_indexer] = value instead\n",
      "\n",
      "See the caveats in the documentation: https://pandas.pydata.org/pandas-docs/stable/user_guide/indexing.html#returning-a-view-versus-a-copy\n",
      "  \n",
      "C:\\Users\\INC\\Anaconda3\\lib\\site-packages\\ipykernel_launcher.py:4: SettingWithCopyWarning: \n",
      "A value is trying to be set on a copy of a slice from a DataFrame\n",
      "\n",
      "See the caveats in the documentation: https://pandas.pydata.org/pandas-docs/stable/user_guide/indexing.html#returning-a-view-versus-a-copy\n",
      "  after removing the cwd from sys.path.\n"
     ]
    }
   ],
   "source": [
    "s_forecast_19= s_forecast_23hr[s_forecast_23hr['forecast'] == 19 ]\n",
    "s_forecast_19['forecast_date'] = dt.timedelta\n",
    "for i in range(0,len(s_forecast_19)):\n",
    "    s_forecast_19['forecast_date'].iloc[i] = pd.to_datetime(s_forecast_19['new_date'].iloc[i]) + dt.timedelta(hours = s_forecast_19['forecast'].iloc[i])\n",
    "    \n",
    "lis = list()\n",
    "for i in range(len(s_forecast_19)):\n",
    "    lis.append( str(s_forecast_19['forecast_date'].iloc[i]))\n",
    "\n",
    "s_forecast_19.set_index('forecast_date', drop=True ,append =False ,inplace=True)\n",
    "s_forecast_19.drop(['new_date','forecast'], axis=1, inplace=True)"
   ]
  },
  {
   "cell_type": "code",
   "execution_count": 47,
   "metadata": {},
   "outputs": [],
   "source": [
    "result_19 = list()\n",
    "for i in range(364):\n",
    "    result_19.append(sum(s_real.loc[lis[i]] == s_forecast_19.iloc[i]))"
   ]
  },
  {
   "cell_type": "code",
   "execution_count": 48,
   "metadata": {},
   "outputs": [],
   "source": [
    "whole = 30*364"
   ]
  },
  {
   "cell_type": "code",
   "execution_count": 49,
   "metadata": {},
   "outputs": [
    {
     "data": {
      "text/plain": [
       "91.75824175824175"
      ]
     },
     "execution_count": 49,
     "metadata": {},
     "output_type": "execute_result"
    }
   ],
   "source": [
    "sum(result_19)/whole*100"
   ]
  },
  {
   "cell_type": "markdown",
   "metadata": {},
   "source": [
    "## 2) 08시에 발표한 당일 18시에 대한 예보 적중률 계산"
   ]
  },
  {
   "cell_type": "markdown",
   "metadata": {},
   "source": [
    "### 08시 발표 데이터만 불러오기"
   ]
  },
  {
   "cell_type": "code",
   "execution_count": 50,
   "metadata": {},
   "outputs": [],
   "source": [
    "liss = []\n",
    "for i in range(len(s_forecast)):\n",
    "    if pd.to_datetime(s_forecast.new_date[i]).hour == 8:\n",
    "        liss.append(i)\n",
    "\n",
    "        "
   ]
  },
  {
   "cell_type": "code",
   "execution_count": 51,
   "metadata": {},
   "outputs": [],
   "source": [
    "s_forecast_18hr = s_forecast.iloc[liss]"
   ]
  },
  {
   "cell_type": "markdown",
   "metadata": {},
   "source": [
    "### 당일 18시 예보 적중률 (퇴근시간) + 10hr 측정"
   ]
  },
  {
   "cell_type": "code",
   "execution_count": 55,
   "metadata": {},
   "outputs": [
    {
     "name": "stderr",
     "output_type": "stream",
     "text": [
      "C:\\Users\\INC\\Anaconda3\\lib\\site-packages\\ipykernel_launcher.py:2: SettingWithCopyWarning: \n",
      "A value is trying to be set on a copy of a slice from a DataFrame.\n",
      "Try using .loc[row_indexer,col_indexer] = value instead\n",
      "\n",
      "See the caveats in the documentation: https://pandas.pydata.org/pandas-docs/stable/user_guide/indexing.html#returning-a-view-versus-a-copy\n",
      "  \n",
      "C:\\Users\\INC\\Anaconda3\\lib\\site-packages\\pandas\\core\\indexing.py:671: SettingWithCopyWarning: \n",
      "A value is trying to be set on a copy of a slice from a DataFrame\n",
      "\n",
      "See the caveats in the documentation: https://pandas.pydata.org/pandas-docs/stable/user_guide/indexing.html#returning-a-view-versus-a-copy\n",
      "  self._setitem_with_indexer(indexer, value)\n",
      "C:\\Users\\INC\\Anaconda3\\lib\\site-packages\\ipykernel_launcher.py:4: SettingWithCopyWarning: \n",
      "A value is trying to be set on a copy of a slice from a DataFrame\n",
      "\n",
      "See the caveats in the documentation: https://pandas.pydata.org/pandas-docs/stable/user_guide/indexing.html#returning-a-view-versus-a-copy\n",
      "  after removing the cwd from sys.path.\n",
      "C:\\Users\\INC\\Anaconda3\\lib\\site-packages\\pandas\\core\\frame.py:3997: SettingWithCopyWarning: \n",
      "A value is trying to be set on a copy of a slice from a DataFrame\n",
      "\n",
      "See the caveats in the documentation: https://pandas.pydata.org/pandas-docs/stable/user_guide/indexing.html#returning-a-view-versus-a-copy\n",
      "  errors=errors,\n"
     ]
    }
   ],
   "source": [
    "s_forecast_10= s_forecast_18hr[s_forecast_18hr['forecast'] == 10 ]\n",
    "s_forecast_10['forecast_date'] = dt.timedelta\n",
    "for i in range(0,len(s_forecast_10)):\n",
    "    s_forecast_10['forecast_date'].iloc[i] = pd.to_datetime(s_forecast_10['new_date'].iloc[i]) + dt.timedelta(hours = s_forecast_10['forecast'].iloc[i])\n",
    "    \n",
    "lis = list()\n",
    "for i in range(len(s_forecast_10)):\n",
    "    lis.append( str(s_forecast_10['forecast_date'].iloc[i]))\n",
    "\n",
    "s_forecast_10.set_index('forecast_date', drop=True ,append =False ,inplace=True)\n",
    "s_forecast_10.drop(['new_date','forecast'], axis=1, inplace=True)"
   ]
  },
  {
   "cell_type": "code",
   "execution_count": 56,
   "metadata": {},
   "outputs": [],
   "source": [
    "result_10 = list()\n",
    "for i in range(365):\n",
    "    result_10.append(sum(s_real.loc[lis[i]] == s_forecast_10.iloc[i]))"
   ]
  },
  {
   "cell_type": "code",
   "execution_count": 57,
   "metadata": {},
   "outputs": [],
   "source": [
    "whole = 30*365"
   ]
  },
  {
   "cell_type": "code",
   "execution_count": 58,
   "metadata": {},
   "outputs": [
    {
     "data": {
      "text/plain": [
       "92.67579908675799"
      ]
     },
     "execution_count": 58,
     "metadata": {},
     "output_type": "execute_result"
    }
   ],
   "source": [
    "sum(result_10)/whole*100"
   ]
  }
 ],
 "metadata": {
  "kernelspec": {
   "display_name": "Python 3",
   "language": "python",
   "name": "python3"
  },
  "language_info": {
   "codemirror_mode": {
    "name": "ipython",
    "version": 3
   },
   "file_extension": ".py",
   "mimetype": "text/x-python",
   "name": "python",
   "nbconvert_exporter": "python",
   "pygments_lexer": "ipython3",
   "version": "3.7.7"
  }
 },
 "nbformat": 4,
 "nbformat_minor": 4
}
