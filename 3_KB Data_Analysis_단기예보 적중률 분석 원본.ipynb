{
 "cells": [
  {
   "cell_type": "markdown",
   "metadata": {},
   "source": [
    "# 기상청 단기예보 , 초단기실황 데이터 분석 (18.01~18.12)\n",
    "### 전처리과정 거친 데이터 사용해서 분석"
   ]
  },
  {
   "cell_type": "code",
   "execution_count": 179,
   "metadata": {},
   "outputs": [],
   "source": [
    "import pandas as pd\n",
    "import numpy as np\n",
    "import datetime as dt\n",
    "from datetime import datetime\n",
    "import time"
   ]
  },
  {
   "cell_type": "markdown",
   "metadata": {},
   "source": [
    "###  데이터 불러오기"
   ]
  },
  {
   "cell_type": "code",
   "execution_count": 182,
   "metadata": {},
   "outputs": [],
   "source": [
    "s_real= pd.read_csv('D:/INC/Desktop/공모전/KB 국민카드/기상데이터/s_real.csv' ,index_col='new_date')"
   ]
  },
  {
   "cell_type": "code",
   "execution_count": 183,
   "metadata": {},
   "outputs": [],
   "source": [
    "s_forecast= pd.read_csv('D:/INC/Desktop/공모전/KB 국민카드/기상데이터/s_forecast.csv')"
   ]
  },
  {
   "cell_type": "markdown",
   "metadata": {},
   "source": [
    "## 1) Naive 분석 ( 전체 데이터 중, '맑은'  시간대 비율)"
   ]
  },
  {
   "cell_type": "code",
   "execution_count": 184,
   "metadata": {},
   "outputs": [],
   "source": [
    "whole = len(s_real)*len(s_real.columns)\n",
    "\n",
    "rain_snow = sum(sum(s_real.values==1))\n",
    "good = sum(sum(s_real.values==0))\n",
    "\n",
    "good_ratio = good/whole*100 \n",
    "\n",
    "rain_snow_rati0 = (rain_snow)/whole*100\n"
   ]
  },
  {
   "cell_type": "code",
   "execution_count": 128,
   "metadata": {},
   "outputs": [
    {
     "data": {
      "text/html": [
       "<div>\n",
       "<style scoped>\n",
       "    .dataframe tbody tr th:only-of-type {\n",
       "        vertical-align: middle;\n",
       "    }\n",
       "\n",
       "    .dataframe tbody tr th {\n",
       "        vertical-align: top;\n",
       "    }\n",
       "\n",
       "    .dataframe thead th {\n",
       "        text-align: right;\n",
       "    }\n",
       "</style>\n",
       "<table border=\"1\" class=\"dataframe\">\n",
       "  <thead>\n",
       "    <tr style=\"text-align: right;\">\n",
       "      <th></th>\n",
       "      <th>s_57_125</th>\n",
       "      <th>s_57_126</th>\n",
       "      <th>s_57_127</th>\n",
       "      <th>s_58_124</th>\n",
       "      <th>s_58_125</th>\n",
       "      <th>s_58_126</th>\n",
       "      <th>s_58_127</th>\n",
       "      <th>s_59_124</th>\n",
       "      <th>s_59_125</th>\n",
       "      <th>s_59_126</th>\n",
       "      <th>...</th>\n",
       "      <th>s_61_128</th>\n",
       "      <th>s_61_129</th>\n",
       "      <th>s_62_125</th>\n",
       "      <th>s_62_126</th>\n",
       "      <th>s_62_127</th>\n",
       "      <th>s_62_128</th>\n",
       "      <th>s_62_129</th>\n",
       "      <th>s_63_125</th>\n",
       "      <th>s_63_126</th>\n",
       "      <th>s_63_127</th>\n",
       "    </tr>\n",
       "    <tr>\n",
       "      <th>new_date</th>\n",
       "      <th></th>\n",
       "      <th></th>\n",
       "      <th></th>\n",
       "      <th></th>\n",
       "      <th></th>\n",
       "      <th></th>\n",
       "      <th></th>\n",
       "      <th></th>\n",
       "      <th></th>\n",
       "      <th></th>\n",
       "      <th></th>\n",
       "      <th></th>\n",
       "      <th></th>\n",
       "      <th></th>\n",
       "      <th></th>\n",
       "      <th></th>\n",
       "      <th></th>\n",
       "      <th></th>\n",
       "      <th></th>\n",
       "      <th></th>\n",
       "      <th></th>\n",
       "    </tr>\n",
       "  </thead>\n",
       "  <tbody>\n",
       "    <tr>\n",
       "      <th>2018-01-01 00:00:00</th>\n",
       "      <td>0.0</td>\n",
       "      <td>0.0</td>\n",
       "      <td>0.0</td>\n",
       "      <td>0.0</td>\n",
       "      <td>0.0</td>\n",
       "      <td>0.0</td>\n",
       "      <td>0.0</td>\n",
       "      <td>0.0</td>\n",
       "      <td>0.0</td>\n",
       "      <td>0.0</td>\n",
       "      <td>...</td>\n",
       "      <td>0.0</td>\n",
       "      <td>0.0</td>\n",
       "      <td>0.0</td>\n",
       "      <td>0.0</td>\n",
       "      <td>0.0</td>\n",
       "      <td>0.0</td>\n",
       "      <td>0.0</td>\n",
       "      <td>0.0</td>\n",
       "      <td>0.0</td>\n",
       "      <td>0.0</td>\n",
       "    </tr>\n",
       "    <tr>\n",
       "      <th>2018-01-01 01:00:00</th>\n",
       "      <td>0.0</td>\n",
       "      <td>0.0</td>\n",
       "      <td>0.0</td>\n",
       "      <td>0.0</td>\n",
       "      <td>0.0</td>\n",
       "      <td>0.0</td>\n",
       "      <td>0.0</td>\n",
       "      <td>0.0</td>\n",
       "      <td>0.0</td>\n",
       "      <td>0.0</td>\n",
       "      <td>...</td>\n",
       "      <td>0.0</td>\n",
       "      <td>0.0</td>\n",
       "      <td>0.0</td>\n",
       "      <td>0.0</td>\n",
       "      <td>0.0</td>\n",
       "      <td>0.0</td>\n",
       "      <td>0.0</td>\n",
       "      <td>0.0</td>\n",
       "      <td>0.0</td>\n",
       "      <td>0.0</td>\n",
       "    </tr>\n",
       "    <tr>\n",
       "      <th>2018-01-01 02:00:00</th>\n",
       "      <td>0.0</td>\n",
       "      <td>0.0</td>\n",
       "      <td>0.0</td>\n",
       "      <td>0.0</td>\n",
       "      <td>0.0</td>\n",
       "      <td>0.0</td>\n",
       "      <td>0.0</td>\n",
       "      <td>0.0</td>\n",
       "      <td>0.0</td>\n",
       "      <td>0.0</td>\n",
       "      <td>...</td>\n",
       "      <td>0.0</td>\n",
       "      <td>0.0</td>\n",
       "      <td>0.0</td>\n",
       "      <td>0.0</td>\n",
       "      <td>0.0</td>\n",
       "      <td>0.0</td>\n",
       "      <td>0.0</td>\n",
       "      <td>0.0</td>\n",
       "      <td>0.0</td>\n",
       "      <td>0.0</td>\n",
       "    </tr>\n",
       "    <tr>\n",
       "      <th>2018-01-01 03:00:00</th>\n",
       "      <td>0.0</td>\n",
       "      <td>0.0</td>\n",
       "      <td>0.0</td>\n",
       "      <td>0.0</td>\n",
       "      <td>0.0</td>\n",
       "      <td>0.0</td>\n",
       "      <td>0.0</td>\n",
       "      <td>0.0</td>\n",
       "      <td>0.0</td>\n",
       "      <td>0.0</td>\n",
       "      <td>...</td>\n",
       "      <td>0.0</td>\n",
       "      <td>0.0</td>\n",
       "      <td>0.0</td>\n",
       "      <td>0.0</td>\n",
       "      <td>0.0</td>\n",
       "      <td>0.0</td>\n",
       "      <td>0.0</td>\n",
       "      <td>0.0</td>\n",
       "      <td>0.0</td>\n",
       "      <td>0.0</td>\n",
       "    </tr>\n",
       "    <tr>\n",
       "      <th>2018-01-01 04:00:00</th>\n",
       "      <td>0.0</td>\n",
       "      <td>0.0</td>\n",
       "      <td>0.0</td>\n",
       "      <td>0.0</td>\n",
       "      <td>0.0</td>\n",
       "      <td>0.0</td>\n",
       "      <td>0.0</td>\n",
       "      <td>0.0</td>\n",
       "      <td>0.0</td>\n",
       "      <td>0.0</td>\n",
       "      <td>...</td>\n",
       "      <td>0.0</td>\n",
       "      <td>0.0</td>\n",
       "      <td>0.0</td>\n",
       "      <td>0.0</td>\n",
       "      <td>0.0</td>\n",
       "      <td>0.0</td>\n",
       "      <td>0.0</td>\n",
       "      <td>0.0</td>\n",
       "      <td>0.0</td>\n",
       "      <td>0.0</td>\n",
       "    </tr>\n",
       "    <tr>\n",
       "      <th>...</th>\n",
       "      <td>...</td>\n",
       "      <td>...</td>\n",
       "      <td>...</td>\n",
       "      <td>...</td>\n",
       "      <td>...</td>\n",
       "      <td>...</td>\n",
       "      <td>...</td>\n",
       "      <td>...</td>\n",
       "      <td>...</td>\n",
       "      <td>...</td>\n",
       "      <td>...</td>\n",
       "      <td>...</td>\n",
       "      <td>...</td>\n",
       "      <td>...</td>\n",
       "      <td>...</td>\n",
       "      <td>...</td>\n",
       "      <td>...</td>\n",
       "      <td>...</td>\n",
       "      <td>...</td>\n",
       "      <td>...</td>\n",
       "      <td>...</td>\n",
       "    </tr>\n",
       "    <tr>\n",
       "      <th>2018-12-31 19:00:00</th>\n",
       "      <td>0.0</td>\n",
       "      <td>0.0</td>\n",
       "      <td>0.0</td>\n",
       "      <td>0.0</td>\n",
       "      <td>0.0</td>\n",
       "      <td>0.0</td>\n",
       "      <td>0.0</td>\n",
       "      <td>0.0</td>\n",
       "      <td>0.0</td>\n",
       "      <td>0.0</td>\n",
       "      <td>...</td>\n",
       "      <td>0.0</td>\n",
       "      <td>0.0</td>\n",
       "      <td>0.0</td>\n",
       "      <td>0.0</td>\n",
       "      <td>0.0</td>\n",
       "      <td>0.0</td>\n",
       "      <td>0.0</td>\n",
       "      <td>0.0</td>\n",
       "      <td>0.0</td>\n",
       "      <td>0.0</td>\n",
       "    </tr>\n",
       "    <tr>\n",
       "      <th>2018-12-31 20:00:00</th>\n",
       "      <td>0.0</td>\n",
       "      <td>0.0</td>\n",
       "      <td>0.0</td>\n",
       "      <td>0.0</td>\n",
       "      <td>0.0</td>\n",
       "      <td>0.0</td>\n",
       "      <td>0.0</td>\n",
       "      <td>0.0</td>\n",
       "      <td>0.0</td>\n",
       "      <td>0.0</td>\n",
       "      <td>...</td>\n",
       "      <td>0.0</td>\n",
       "      <td>0.0</td>\n",
       "      <td>0.0</td>\n",
       "      <td>0.0</td>\n",
       "      <td>0.0</td>\n",
       "      <td>0.0</td>\n",
       "      <td>0.0</td>\n",
       "      <td>0.0</td>\n",
       "      <td>0.0</td>\n",
       "      <td>0.0</td>\n",
       "    </tr>\n",
       "    <tr>\n",
       "      <th>2018-12-31 21:00:00</th>\n",
       "      <td>0.0</td>\n",
       "      <td>0.0</td>\n",
       "      <td>0.0</td>\n",
       "      <td>0.0</td>\n",
       "      <td>0.0</td>\n",
       "      <td>0.0</td>\n",
       "      <td>0.0</td>\n",
       "      <td>0.0</td>\n",
       "      <td>0.0</td>\n",
       "      <td>0.0</td>\n",
       "      <td>...</td>\n",
       "      <td>0.0</td>\n",
       "      <td>0.0</td>\n",
       "      <td>0.0</td>\n",
       "      <td>0.0</td>\n",
       "      <td>0.0</td>\n",
       "      <td>0.0</td>\n",
       "      <td>0.0</td>\n",
       "      <td>0.0</td>\n",
       "      <td>0.0</td>\n",
       "      <td>0.0</td>\n",
       "    </tr>\n",
       "    <tr>\n",
       "      <th>2018-12-31 22:00:00</th>\n",
       "      <td>0.0</td>\n",
       "      <td>0.0</td>\n",
       "      <td>0.0</td>\n",
       "      <td>0.0</td>\n",
       "      <td>0.0</td>\n",
       "      <td>0.0</td>\n",
       "      <td>0.0</td>\n",
       "      <td>0.0</td>\n",
       "      <td>0.0</td>\n",
       "      <td>0.0</td>\n",
       "      <td>...</td>\n",
       "      <td>0.0</td>\n",
       "      <td>0.0</td>\n",
       "      <td>0.0</td>\n",
       "      <td>0.0</td>\n",
       "      <td>0.0</td>\n",
       "      <td>0.0</td>\n",
       "      <td>0.0</td>\n",
       "      <td>0.0</td>\n",
       "      <td>0.0</td>\n",
       "      <td>0.0</td>\n",
       "    </tr>\n",
       "    <tr>\n",
       "      <th>2018-12-31 23:00:00</th>\n",
       "      <td>0.0</td>\n",
       "      <td>0.0</td>\n",
       "      <td>0.0</td>\n",
       "      <td>0.0</td>\n",
       "      <td>0.0</td>\n",
       "      <td>0.0</td>\n",
       "      <td>0.0</td>\n",
       "      <td>0.0</td>\n",
       "      <td>0.0</td>\n",
       "      <td>0.0</td>\n",
       "      <td>...</td>\n",
       "      <td>0.0</td>\n",
       "      <td>0.0</td>\n",
       "      <td>0.0</td>\n",
       "      <td>0.0</td>\n",
       "      <td>0.0</td>\n",
       "      <td>0.0</td>\n",
       "      <td>0.0</td>\n",
       "      <td>0.0</td>\n",
       "      <td>0.0</td>\n",
       "      <td>0.0</td>\n",
       "    </tr>\n",
       "  </tbody>\n",
       "</table>\n",
       "<p>8760 rows × 30 columns</p>\n",
       "</div>"
      ],
      "text/plain": [
       "                     s_57_125  s_57_126  s_57_127  s_58_124  s_58_125  \\\n",
       "new_date                                                                \n",
       "2018-01-01 00:00:00       0.0       0.0       0.0       0.0       0.0   \n",
       "2018-01-01 01:00:00       0.0       0.0       0.0       0.0       0.0   \n",
       "2018-01-01 02:00:00       0.0       0.0       0.0       0.0       0.0   \n",
       "2018-01-01 03:00:00       0.0       0.0       0.0       0.0       0.0   \n",
       "2018-01-01 04:00:00       0.0       0.0       0.0       0.0       0.0   \n",
       "...                       ...       ...       ...       ...       ...   \n",
       "2018-12-31 19:00:00       0.0       0.0       0.0       0.0       0.0   \n",
       "2018-12-31 20:00:00       0.0       0.0       0.0       0.0       0.0   \n",
       "2018-12-31 21:00:00       0.0       0.0       0.0       0.0       0.0   \n",
       "2018-12-31 22:00:00       0.0       0.0       0.0       0.0       0.0   \n",
       "2018-12-31 23:00:00       0.0       0.0       0.0       0.0       0.0   \n",
       "\n",
       "                     s_58_126  s_58_127  s_59_124  s_59_125  s_59_126  ...  \\\n",
       "new_date                                                               ...   \n",
       "2018-01-01 00:00:00       0.0       0.0       0.0       0.0       0.0  ...   \n",
       "2018-01-01 01:00:00       0.0       0.0       0.0       0.0       0.0  ...   \n",
       "2018-01-01 02:00:00       0.0       0.0       0.0       0.0       0.0  ...   \n",
       "2018-01-01 03:00:00       0.0       0.0       0.0       0.0       0.0  ...   \n",
       "2018-01-01 04:00:00       0.0       0.0       0.0       0.0       0.0  ...   \n",
       "...                       ...       ...       ...       ...       ...  ...   \n",
       "2018-12-31 19:00:00       0.0       0.0       0.0       0.0       0.0  ...   \n",
       "2018-12-31 20:00:00       0.0       0.0       0.0       0.0       0.0  ...   \n",
       "2018-12-31 21:00:00       0.0       0.0       0.0       0.0       0.0  ...   \n",
       "2018-12-31 22:00:00       0.0       0.0       0.0       0.0       0.0  ...   \n",
       "2018-12-31 23:00:00       0.0       0.0       0.0       0.0       0.0  ...   \n",
       "\n",
       "                     s_61_128  s_61_129  s_62_125  s_62_126  s_62_127  \\\n",
       "new_date                                                                \n",
       "2018-01-01 00:00:00       0.0       0.0       0.0       0.0       0.0   \n",
       "2018-01-01 01:00:00       0.0       0.0       0.0       0.0       0.0   \n",
       "2018-01-01 02:00:00       0.0       0.0       0.0       0.0       0.0   \n",
       "2018-01-01 03:00:00       0.0       0.0       0.0       0.0       0.0   \n",
       "2018-01-01 04:00:00       0.0       0.0       0.0       0.0       0.0   \n",
       "...                       ...       ...       ...       ...       ...   \n",
       "2018-12-31 19:00:00       0.0       0.0       0.0       0.0       0.0   \n",
       "2018-12-31 20:00:00       0.0       0.0       0.0       0.0       0.0   \n",
       "2018-12-31 21:00:00       0.0       0.0       0.0       0.0       0.0   \n",
       "2018-12-31 22:00:00       0.0       0.0       0.0       0.0       0.0   \n",
       "2018-12-31 23:00:00       0.0       0.0       0.0       0.0       0.0   \n",
       "\n",
       "                     s_62_128  s_62_129  s_63_125  s_63_126  s_63_127  \n",
       "new_date                                                               \n",
       "2018-01-01 00:00:00       0.0       0.0       0.0       0.0       0.0  \n",
       "2018-01-01 01:00:00       0.0       0.0       0.0       0.0       0.0  \n",
       "2018-01-01 02:00:00       0.0       0.0       0.0       0.0       0.0  \n",
       "2018-01-01 03:00:00       0.0       0.0       0.0       0.0       0.0  \n",
       "2018-01-01 04:00:00       0.0       0.0       0.0       0.0       0.0  \n",
       "...                       ...       ...       ...       ...       ...  \n",
       "2018-12-31 19:00:00       0.0       0.0       0.0       0.0       0.0  \n",
       "2018-12-31 20:00:00       0.0       0.0       0.0       0.0       0.0  \n",
       "2018-12-31 21:00:00       0.0       0.0       0.0       0.0       0.0  \n",
       "2018-12-31 22:00:00       0.0       0.0       0.0       0.0       0.0  \n",
       "2018-12-31 23:00:00       0.0       0.0       0.0       0.0       0.0  \n",
       "\n",
       "[8760 rows x 30 columns]"
      ]
     },
     "execution_count": 128,
     "metadata": {},
     "output_type": "execute_result"
    }
   ],
   "source": [
    "s_real"
   ]
  },
  {
   "cell_type": "markdown",
   "metadata": {},
   "source": [
    "## 2) forecast = 4 (4시간 뒤)에 대한 예측률"
   ]
  },
  {
   "cell_type": "markdown",
   "metadata": {},
   "source": [
    "### 예측값과 발표시간 값을 datetime 형식으로 더해줌으로써, forecast_date 형성"
   ]
  },
  {
   "cell_type": "code",
   "execution_count": 186,
   "metadata": {},
   "outputs": [
    {
     "name": "stderr",
     "output_type": "stream",
     "text": [
      "C:\\Users\\INC\\Anaconda3\\lib\\site-packages\\ipykernel_launcher.py:3: SettingWithCopyWarning: \n",
      "A value is trying to be set on a copy of a slice from a DataFrame.\n",
      "Try using .loc[row_indexer,col_indexer] = value instead\n",
      "\n",
      "See the caveats in the documentation: https://pandas.pydata.org/pandas-docs/stable/user_guide/indexing.html#returning-a-view-versus-a-copy\n",
      "  This is separate from the ipykernel package so we can avoid doing imports until\n",
      "C:\\Users\\INC\\Anaconda3\\lib\\site-packages\\ipykernel_launcher.py:6: SettingWithCopyWarning: \n",
      "A value is trying to be set on a copy of a slice from a DataFrame\n",
      "\n",
      "See the caveats in the documentation: https://pandas.pydata.org/pandas-docs/stable/user_guide/indexing.html#returning-a-view-versus-a-copy\n",
      "  \n"
     ]
    }
   ],
   "source": [
    "s_forecast_4= s_forecast[s_forecast['forecast'] == 4 ]\n",
    "\n",
    "s_forecast_4['forecast_date'] = dt.timedelta\n",
    "\n",
    "for i in range(0,len(s_forecast_4)):\n",
    "    s_forecast_4['forecast_date'].iloc[i] = pd.to_datetime(s_forecast_4['new_date'].iloc[i]) + dt.timedelta(hours = s_forecast_4['forecast'].iloc[i])\n",
    "    \n",
    "lis = list()\n",
    "for i in range(len(s_forecast_4)):\n",
    "    lis.append( str(s_forecast_4['forecast_date'].iloc[i]))\n",
    "       "
   ]
  },
  {
   "cell_type": "markdown",
   "metadata": {},
   "source": [
    "### forecast_date를 index로 설정"
   ]
  },
  {
   "cell_type": "code",
   "execution_count": 135,
   "metadata": {},
   "outputs": [],
   "source": [
    "s_forecast_4.set_index('forecast_date', drop=True ,append =False ,inplace=True)"
   ]
  },
  {
   "cell_type": "markdown",
   "metadata": {},
   "source": [
    "### 필요없는 column 제거"
   ]
  },
  {
   "cell_type": "code",
   "execution_count": 136,
   "metadata": {},
   "outputs": [
    {
     "name": "stderr",
     "output_type": "stream",
     "text": [
      "C:\\Users\\INC\\Anaconda3\\lib\\site-packages\\pandas\\core\\frame.py:3997: SettingWithCopyWarning: \n",
      "A value is trying to be set on a copy of a slice from a DataFrame\n",
      "\n",
      "See the caveats in the documentation: https://pandas.pydata.org/pandas-docs/stable/user_guide/indexing.html#returning-a-view-versus-a-copy\n",
      "  errors=errors,\n"
     ]
    }
   ],
   "source": [
    "s_forecast_4.drop(['new_date','forecast'], axis=1, inplace=True)"
   ]
  },
  {
   "cell_type": "markdown",
   "metadata": {},
   "source": [
    "### 2019년을 예측하는 데이터는 제외"
   ]
  },
  {
   "cell_type": "code",
   "execution_count": 140,
   "metadata": {},
   "outputs": [
    {
     "data": {
      "text/plain": [
       "'2019-01-01 00:00:00'"
      ]
     },
     "execution_count": 140,
     "metadata": {},
     "output_type": "execute_result"
    }
   ],
   "source": [
    "lis[2918]"
   ]
  },
  {
   "cell_type": "markdown",
   "metadata": {},
   "source": [
    "### 예측값과 실제값 비교하여, True값 result_4에 저장"
   ]
  },
  {
   "cell_type": "code",
   "execution_count": 141,
   "metadata": {},
   "outputs": [],
   "source": [
    "result_4 = list()\n",
    "for i in range(2918):\n",
    "    result_4.append(sum(s_real.loc[lis[i]] == s_forecast_4.iloc[i]))"
   ]
  },
  {
   "cell_type": "code",
   "execution_count": 142,
   "metadata": {},
   "outputs": [
    {
     "data": {
      "text/plain": [
       "81746"
      ]
     },
     "execution_count": 142,
     "metadata": {},
     "output_type": "execute_result"
    }
   ],
   "source": [
    "sum(result_4)"
   ]
  },
  {
   "cell_type": "code",
   "execution_count": 143,
   "metadata": {},
   "outputs": [],
   "source": [
    "whole = 30*2918"
   ]
  },
  {
   "cell_type": "markdown",
   "metadata": {},
   "source": [
    "### 예보 성공률 계산"
   ]
  },
  {
   "cell_type": "code",
   "execution_count": 144,
   "metadata": {},
   "outputs": [
    {
     "data": {
      "text/plain": [
       "93.38131140050263"
      ]
     },
     "execution_count": 144,
     "metadata": {},
     "output_type": "execute_result"
    }
   ],
   "source": [
    "sum(result_4)/whole*100"
   ]
  },
  {
   "cell_type": "markdown",
   "metadata": {},
   "source": [
    "## forecast = 7"
   ]
  },
  {
   "cell_type": "code",
   "execution_count": 493,
   "metadata": {},
   "outputs": [],
   "source": [
    "s_forecast_7= s_forecast[s_forecast['forecast'] == 7 ]"
   ]
  },
  {
   "cell_type": "code",
   "execution_count": 494,
   "metadata": {},
   "outputs": [
    {
     "name": "stderr",
     "output_type": "stream",
     "text": [
      "C:\\Users\\INC\\Anaconda3\\lib\\site-packages\\ipykernel_launcher.py:1: SettingWithCopyWarning: \n",
      "A value is trying to be set on a copy of a slice from a DataFrame.\n",
      "Try using .loc[row_indexer,col_indexer] = value instead\n",
      "\n",
      "See the caveats in the documentation: https://pandas.pydata.org/pandas-docs/stable/user_guide/indexing.html#returning-a-view-versus-a-copy\n",
      "  \"\"\"Entry point for launching an IPython kernel.\n"
     ]
    }
   ],
   "source": [
    "s_forecast_7['forecast_date'] = dt.timedelta"
   ]
  },
  {
   "cell_type": "code",
   "execution_count": 495,
   "metadata": {},
   "outputs": [
    {
     "name": "stderr",
     "output_type": "stream",
     "text": [
      "C:\\Users\\INC\\Anaconda3\\lib\\site-packages\\ipykernel_launcher.py:2: SettingWithCopyWarning: \n",
      "A value is trying to be set on a copy of a slice from a DataFrame\n",
      "\n",
      "See the caveats in the documentation: https://pandas.pydata.org/pandas-docs/stable/user_guide/indexing.html#returning-a-view-versus-a-copy\n",
      "  \n"
     ]
    }
   ],
   "source": [
    "for i in range(0,len(s_forecast_7)):\n",
    "    s_forecast_7['forecast_date'].iloc[i] = pd.to_datetime(s_forecast_7['new_date'].iloc[i]) + dt.timedelta(hours = s_forecast_7['forecast'].iloc[i])"
   ]
  },
  {
   "cell_type": "code",
   "execution_count": 497,
   "metadata": {},
   "outputs": [],
   "source": [
    "lis = list()\n",
    "for i in range(len(s_forecast_7)):\n",
    "    lis.append( str(s_forecast_7['forecast_date'].iloc[i]))\n",
    "    "
   ]
  },
  {
   "cell_type": "code",
   "execution_count": 499,
   "metadata": {},
   "outputs": [],
   "source": [
    "s_forecast_7.set_index('forecast_date', drop=True ,append =False ,inplace=True)"
   ]
  },
  {
   "cell_type": "code",
   "execution_count": 500,
   "metadata": {},
   "outputs": [],
   "source": [
    "s_forecast_7.drop(['new_date','forecast'], axis=1, inplace=True)"
   ]
  },
  {
   "cell_type": "code",
   "execution_count": 504,
   "metadata": {},
   "outputs": [],
   "source": [
    "result_7 = list()\n",
    "for i in range(2917):\n",
    "    result_7.append(sum(s_real.loc[lis[i]] == s_forecast_7.iloc[i]))"
   ]
  },
  {
   "cell_type": "code",
   "execution_count": 505,
   "metadata": {},
   "outputs": [],
   "source": [
    "whole = 30*2917"
   ]
  },
  {
   "cell_type": "code",
   "execution_count": 506,
   "metadata": {},
   "outputs": [
    {
     "data": {
      "text/plain": [
       "93.7115758199063"
      ]
     },
     "execution_count": 506,
     "metadata": {},
     "output_type": "execute_result"
    }
   ],
   "source": [
    "sum(result_7)/whole*100"
   ]
  },
  {
   "cell_type": "markdown",
   "metadata": {},
   "source": [
    "## forecast=10"
   ]
  },
  {
   "cell_type": "code",
   "execution_count": 480,
   "metadata": {},
   "outputs": [],
   "source": [
    "s_forecast_10= s_forecast[s_forecast['forecast'] == 10 ]"
   ]
  },
  {
   "cell_type": "code",
   "execution_count": 481,
   "metadata": {},
   "outputs": [
    {
     "name": "stderr",
     "output_type": "stream",
     "text": [
      "C:\\Users\\INC\\Anaconda3\\lib\\site-packages\\ipykernel_launcher.py:1: SettingWithCopyWarning: \n",
      "A value is trying to be set on a copy of a slice from a DataFrame.\n",
      "Try using .loc[row_indexer,col_indexer] = value instead\n",
      "\n",
      "See the caveats in the documentation: https://pandas.pydata.org/pandas-docs/stable/user_guide/indexing.html#returning-a-view-versus-a-copy\n",
      "  \"\"\"Entry point for launching an IPython kernel.\n"
     ]
    }
   ],
   "source": [
    "s_forecast_10['forecast_date'] = dt.timedelta"
   ]
  },
  {
   "cell_type": "code",
   "execution_count": 482,
   "metadata": {},
   "outputs": [
    {
     "name": "stderr",
     "output_type": "stream",
     "text": [
      "C:\\Users\\INC\\Anaconda3\\lib\\site-packages\\pandas\\core\\indexing.py:671: SettingWithCopyWarning: \n",
      "A value is trying to be set on a copy of a slice from a DataFrame\n",
      "\n",
      "See the caveats in the documentation: https://pandas.pydata.org/pandas-docs/stable/user_guide/indexing.html#returning-a-view-versus-a-copy\n",
      "  self._setitem_with_indexer(indexer, value)\n",
      "C:\\Users\\INC\\Anaconda3\\lib\\site-packages\\ipykernel_launcher.py:2: SettingWithCopyWarning: \n",
      "A value is trying to be set on a copy of a slice from a DataFrame\n",
      "\n",
      "See the caveats in the documentation: https://pandas.pydata.org/pandas-docs/stable/user_guide/indexing.html#returning-a-view-versus-a-copy\n",
      "  \n"
     ]
    }
   ],
   "source": [
    "for i in range(0,len(s_forecast_10)):\n",
    "    s_forecast_10['forecast_date'].iloc[i] = pd.to_datetime(s_forecast_10['new_date'].iloc[i]) + dt.timedelta(hours = s_forecast_10['forecast'].iloc[i])"
   ]
  },
  {
   "cell_type": "code",
   "execution_count": 483,
   "metadata": {},
   "outputs": [],
   "source": [
    "lis = list()\n",
    "for i in range(len(s_forecast_10)):\n",
    "    lis.append( str(s_forecast_10['forecast_date'].iloc[i]))\n",
    "    "
   ]
  },
  {
   "cell_type": "code",
   "execution_count": 484,
   "metadata": {},
   "outputs": [],
   "source": [
    "s_forecast_10.set_index('forecast_date', drop=True ,append =False ,inplace=True)"
   ]
  },
  {
   "cell_type": "code",
   "execution_count": 485,
   "metadata": {},
   "outputs": [
    {
     "name": "stderr",
     "output_type": "stream",
     "text": [
      "C:\\Users\\INC\\Anaconda3\\lib\\site-packages\\pandas\\core\\frame.py:3997: SettingWithCopyWarning: \n",
      "A value is trying to be set on a copy of a slice from a DataFrame\n",
      "\n",
      "See the caveats in the documentation: https://pandas.pydata.org/pandas-docs/stable/user_guide/indexing.html#returning-a-view-versus-a-copy\n",
      "  errors=errors,\n"
     ]
    }
   ],
   "source": [
    "s_forecast_10.drop(['new_date','forecast'], axis=1, inplace=True)"
   ]
  },
  {
   "cell_type": "code",
   "execution_count": 488,
   "metadata": {},
   "outputs": [],
   "source": [
    "result_10 = list()\n",
    "for i in range(2916):\n",
    "    result_10.append(sum(s_real.loc[lis[i]] == s_forecast_10.iloc[i]))"
   ]
  },
  {
   "cell_type": "code",
   "execution_count": 489,
   "metadata": {},
   "outputs": [],
   "source": [
    "whole = 30*2916"
   ]
  },
  {
   "cell_type": "code",
   "execution_count": 492,
   "metadata": {},
   "outputs": [
    {
     "data": {
      "text/plain": [
       "93.59053497942386"
      ]
     },
     "execution_count": 492,
     "metadata": {},
     "output_type": "execute_result"
    }
   ],
   "source": [
    "sum(result_10)/whole*100"
   ]
  },
  {
   "cell_type": "markdown",
   "metadata": {},
   "source": [
    "## forecast=16"
   ]
  },
  {
   "cell_type": "code",
   "execution_count": 507,
   "metadata": {},
   "outputs": [
    {
     "name": "stderr",
     "output_type": "stream",
     "text": [
      "C:\\Users\\INC\\Anaconda3\\lib\\site-packages\\ipykernel_launcher.py:2: SettingWithCopyWarning: \n",
      "A value is trying to be set on a copy of a slice from a DataFrame.\n",
      "Try using .loc[row_indexer,col_indexer] = value instead\n",
      "\n",
      "See the caveats in the documentation: https://pandas.pydata.org/pandas-docs/stable/user_guide/indexing.html#returning-a-view-versus-a-copy\n",
      "  \n",
      "C:\\Users\\INC\\Anaconda3\\lib\\site-packages\\ipykernel_launcher.py:4: SettingWithCopyWarning: \n",
      "A value is trying to be set on a copy of a slice from a DataFrame\n",
      "\n",
      "See the caveats in the documentation: https://pandas.pydata.org/pandas-docs/stable/user_guide/indexing.html#returning-a-view-versus-a-copy\n",
      "  after removing the cwd from sys.path.\n"
     ]
    }
   ],
   "source": [
    "s_forecast_16= s_forecast[s_forecast['forecast'] == 16 ]\n",
    "s_forecast_16['forecast_date'] = dt.timedelta\n",
    "for i in range(0,len(s_forecast_16)):\n",
    "    s_forecast_16['forecast_date'].iloc[i] = pd.to_datetime(s_forecast_16['new_date'].iloc[i]) + dt.timedelta(hours = s_forecast_16['forecast'].iloc[i])\n",
    "    \n",
    "lis = list()\n",
    "for i in range(len(s_forecast_16)):\n",
    "    lis.append( str(s_forecast_16['forecast_date'].iloc[i]))\n",
    "\n",
    "s_forecast_16.set_index('forecast_date', drop=True ,append =False ,inplace=True)\n",
    "s_forecast_16.drop(['new_date','forecast'], axis=1, inplace=True)"
   ]
  },
  {
   "cell_type": "code",
   "execution_count": 514,
   "metadata": {},
   "outputs": [],
   "source": [
    "result_16 = list()\n",
    "for i in range(2914):\n",
    "    result_16.append(sum(s_real.loc[lis[i]] == s_forecast_16.iloc[i]))"
   ]
  },
  {
   "cell_type": "code",
   "execution_count": null,
   "metadata": {},
   "outputs": [],
   "source": [
    "whole = 30*2914"
   ]
  },
  {
   "cell_type": "code",
   "execution_count": 515,
   "metadata": {},
   "outputs": [
    {
     "data": {
      "text/plain": [
       "93.39504056679236"
      ]
     },
     "execution_count": 515,
     "metadata": {},
     "output_type": "execute_result"
    }
   ],
   "source": [
    "sum(result_16)/whole*100"
   ]
  },
  {
   "cell_type": "markdown",
   "metadata": {},
   "source": [
    "## forecast = 25"
   ]
  },
  {
   "cell_type": "code",
   "execution_count": 165,
   "metadata": {},
   "outputs": [
    {
     "name": "stderr",
     "output_type": "stream",
     "text": [
      "C:\\Users\\INC\\Anaconda3\\lib\\site-packages\\ipykernel_launcher.py:2: SettingWithCopyWarning: \n",
      "A value is trying to be set on a copy of a slice from a DataFrame.\n",
      "Try using .loc[row_indexer,col_indexer] = value instead\n",
      "\n",
      "See the caveats in the documentation: https://pandas.pydata.org/pandas-docs/stable/user_guide/indexing.html#returning-a-view-versus-a-copy\n",
      "  \n",
      "C:\\Users\\INC\\Anaconda3\\lib\\site-packages\\pandas\\core\\indexing.py:671: SettingWithCopyWarning: \n",
      "A value is trying to be set on a copy of a slice from a DataFrame\n",
      "\n",
      "See the caveats in the documentation: https://pandas.pydata.org/pandas-docs/stable/user_guide/indexing.html#returning-a-view-versus-a-copy\n",
      "  self._setitem_with_indexer(indexer, value)\n",
      "C:\\Users\\INC\\Anaconda3\\lib\\site-packages\\ipykernel_launcher.py:4: SettingWithCopyWarning: \n",
      "A value is trying to be set on a copy of a slice from a DataFrame\n",
      "\n",
      "See the caveats in the documentation: https://pandas.pydata.org/pandas-docs/stable/user_guide/indexing.html#returning-a-view-versus-a-copy\n",
      "  after removing the cwd from sys.path.\n"
     ]
    }
   ],
   "source": [
    "s_forecast_25= s_forecast[s_forecast['forecast'] == 25 ]\n",
    "s_forecast_25['forecast_date'] = dt.timedelta\n",
    "for i in range(0,len(s_forecast_25)):\n",
    "    s_forecast_25['forecast_date'].iloc[i] = pd.to_datetime(s_forecast_25['new_date'].iloc[i]) + dt.timedelta(hours = s_forecast_25['forecast'].iloc[i])\n",
    "    \n",
    "lis = list()\n",
    "for i in range(len(s_forecast_25)):\n",
    "    lis.append( str(s_forecast_25['forecast_date'].iloc[i]))\n",
    "\n",
    "s_forecast_25.set_index('forecast_date', drop=True ,append =False ,inplace=True)\n",
    "s_forecast_25.drop(['new_date','forecast'], axis=1, inplace=True)"
   ]
  },
  {
   "cell_type": "code",
   "execution_count": 169,
   "metadata": {},
   "outputs": [],
   "source": [
    "result_25 = list()\n",
    "for i in range(2911):\n",
    "    result_25.append(sum(s_real.loc[lis[i]] == s_forecast_25.iloc[i]))"
   ]
  },
  {
   "cell_type": "code",
   "execution_count": 170,
   "metadata": {},
   "outputs": [],
   "source": [
    "whole = 30*2911"
   ]
  },
  {
   "cell_type": "code",
   "execution_count": 171,
   "metadata": {},
   "outputs": [
    {
     "data": {
      "text/plain": [
       "93.39058742700102"
      ]
     },
     "execution_count": 171,
     "metadata": {},
     "output_type": "execute_result"
    }
   ],
   "source": [
    "sum(result_25)/whole*100"
   ]
  },
  {
   "cell_type": "markdown",
   "metadata": {},
   "source": [
    "## forecast=37"
   ]
  },
  {
   "cell_type": "code",
   "execution_count": 172,
   "metadata": {},
   "outputs": [
    {
     "name": "stderr",
     "output_type": "stream",
     "text": [
      "C:\\Users\\INC\\Anaconda3\\lib\\site-packages\\ipykernel_launcher.py:2: SettingWithCopyWarning: \n",
      "A value is trying to be set on a copy of a slice from a DataFrame.\n",
      "Try using .loc[row_indexer,col_indexer] = value instead\n",
      "\n",
      "See the caveats in the documentation: https://pandas.pydata.org/pandas-docs/stable/user_guide/indexing.html#returning-a-view-versus-a-copy\n",
      "  \n",
      "C:\\Users\\INC\\Anaconda3\\lib\\site-packages\\ipykernel_launcher.py:4: SettingWithCopyWarning: \n",
      "A value is trying to be set on a copy of a slice from a DataFrame\n",
      "\n",
      "See the caveats in the documentation: https://pandas.pydata.org/pandas-docs/stable/user_guide/indexing.html#returning-a-view-versus-a-copy\n",
      "  after removing the cwd from sys.path.\n"
     ]
    }
   ],
   "source": [
    "s_forecast_37= s_forecast[s_forecast['forecast'] == 37 ]\n",
    "s_forecast_37['forecast_date'] = dt.timedelta\n",
    "for i in range(0,len(s_forecast_37)):\n",
    "    s_forecast_37['forecast_date'].iloc[i] = pd.to_datetime(s_forecast_37['new_date'].iloc[i]) + dt.timedelta(hours = s_forecast_37['forecast'].iloc[i])\n",
    "    \n",
    "lis = list()\n",
    "for i in range(len(s_forecast_37)):\n",
    "    lis.append( str(s_forecast_37['forecast_date'].iloc[i]))\n",
    "\n",
    "s_forecast_37.set_index('forecast_date', drop=True ,append =False ,inplace=True)\n",
    "s_forecast_37.drop(['new_date','forecast'], axis=1, inplace=True)"
   ]
  },
  {
   "cell_type": "code",
   "execution_count": 177,
   "metadata": {},
   "outputs": [],
   "source": [
    "result_37 = list()\n",
    "for i in range(2907):\n",
    "    result_37.append(sum(s_real.loc[lis[i]] == s_forecast_37.iloc[i]))"
   ]
  },
  {
   "cell_type": "code",
   "execution_count": 178,
   "metadata": {},
   "outputs": [
    {
     "data": {
      "text/plain": [
       "92.79858009847705"
      ]
     },
     "execution_count": 178,
     "metadata": {},
     "output_type": "execute_result"
    }
   ],
   "source": [
    "sum(result_37)/whole*100"
   ]
  },
  {
   "cell_type": "markdown",
   "metadata": {},
   "source": [
    "## forecast=52"
   ]
  },
  {
   "cell_type": "code",
   "execution_count": 516,
   "metadata": {},
   "outputs": [
    {
     "name": "stderr",
     "output_type": "stream",
     "text": [
      "C:\\Users\\INC\\Anaconda3\\lib\\site-packages\\ipykernel_launcher.py:2: SettingWithCopyWarning: \n",
      "A value is trying to be set on a copy of a slice from a DataFrame.\n",
      "Try using .loc[row_indexer,col_indexer] = value instead\n",
      "\n",
      "See the caveats in the documentation: https://pandas.pydata.org/pandas-docs/stable/user_guide/indexing.html#returning-a-view-versus-a-copy\n",
      "  \n",
      "C:\\Users\\INC\\Anaconda3\\lib\\site-packages\\ipykernel_launcher.py:4: SettingWithCopyWarning: \n",
      "A value is trying to be set on a copy of a slice from a DataFrame\n",
      "\n",
      "See the caveats in the documentation: https://pandas.pydata.org/pandas-docs/stable/user_guide/indexing.html#returning-a-view-versus-a-copy\n",
      "  after removing the cwd from sys.path.\n"
     ]
    }
   ],
   "source": [
    "s_forecast_52= s_forecast[s_forecast['forecast'] == 52 ]\n",
    "s_forecast_52['forecast_date'] = dt.timedelta\n",
    "for i in range(0,len(s_forecast_52)):\n",
    "    s_forecast_52['forecast_date'].iloc[i] = pd.to_datetime(s_forecast_52['new_date'].iloc[i]) + dt.timedelta(hours = s_forecast_52['forecast'].iloc[i])\n",
    "    \n",
    "lis = list()\n",
    "for i in range(len(s_forecast_52)):\n",
    "    lis.append( str(s_forecast_52['forecast_date'].iloc[i]))\n",
    "\n",
    "s_forecast_52.set_index('forecast_date', drop=True ,append =False ,inplace=True)\n",
    "s_forecast_52.drop(['new_date','forecast'], axis=1, inplace=True)"
   ]
  },
  {
   "cell_type": "code",
   "execution_count": 523,
   "metadata": {},
   "outputs": [
    {
     "data": {
      "text/plain": [
       "'2019-01-01 00:00:00'"
      ]
     },
     "execution_count": 523,
     "metadata": {},
     "output_type": "execute_result"
    }
   ],
   "source": [
    "lis[2176]"
   ]
  },
  {
   "cell_type": "code",
   "execution_count": 524,
   "metadata": {},
   "outputs": [],
   "source": [
    "result_52 = list()\n",
    "for i in range(2176):\n",
    "    result_52.append(sum(s_real.loc[lis[i]] == s_forecast_52.iloc[i]))"
   ]
  },
  {
   "cell_type": "code",
   "execution_count": 525,
   "metadata": {},
   "outputs": [],
   "source": [
    "whole = 30*2176"
   ]
  },
  {
   "cell_type": "code",
   "execution_count": 526,
   "metadata": {},
   "outputs": [
    {
     "data": {
      "text/plain": [
       "93.28584558823529"
      ]
     },
     "execution_count": 526,
     "metadata": {},
     "output_type": "execute_result"
    }
   ],
   "source": [
    "sum(result_52)/whole*100"
   ]
  },
  {
   "cell_type": "markdown",
   "metadata": {},
   "source": [
    "## forecast == 61 예측률"
   ]
  },
  {
   "cell_type": "code",
   "execution_count": 545,
   "metadata": {},
   "outputs": [
    {
     "name": "stderr",
     "output_type": "stream",
     "text": [
      "C:\\Users\\INC\\Anaconda3\\lib\\site-packages\\ipykernel_launcher.py:2: SettingWithCopyWarning: \n",
      "A value is trying to be set on a copy of a slice from a DataFrame.\n",
      "Try using .loc[row_indexer,col_indexer] = value instead\n",
      "\n",
      "See the caveats in the documentation: https://pandas.pydata.org/pandas-docs/stable/user_guide/indexing.html#returning-a-view-versus-a-copy\n",
      "  \n",
      "C:\\Users\\INC\\Anaconda3\\lib\\site-packages\\pandas\\core\\indexing.py:671: SettingWithCopyWarning: \n",
      "A value is trying to be set on a copy of a slice from a DataFrame\n",
      "\n",
      "See the caveats in the documentation: https://pandas.pydata.org/pandas-docs/stable/user_guide/indexing.html#returning-a-view-versus-a-copy\n",
      "  self._setitem_with_indexer(indexer, value)\n",
      "C:\\Users\\INC\\Anaconda3\\lib\\site-packages\\ipykernel_launcher.py:4: SettingWithCopyWarning: \n",
      "A value is trying to be set on a copy of a slice from a DataFrame\n",
      "\n",
      "See the caveats in the documentation: https://pandas.pydata.org/pandas-docs/stable/user_guide/indexing.html#returning-a-view-versus-a-copy\n",
      "  after removing the cwd from sys.path.\n",
      "C:\\Users\\INC\\Anaconda3\\lib\\site-packages\\pandas\\core\\frame.py:3997: SettingWithCopyWarning: \n",
      "A value is trying to be set on a copy of a slice from a DataFrame\n",
      "\n",
      "See the caveats in the documentation: https://pandas.pydata.org/pandas-docs/stable/user_guide/indexing.html#returning-a-view-versus-a-copy\n",
      "  errors=errors,\n"
     ]
    }
   ],
   "source": [
    "s_forecast_61= s_forecast[s_forecast['forecast'] == 61 ]\n",
    "s_forecast_61['forecast_date'] = dt.timedelta\n",
    "for i in range(0,len(s_forecast_61)):\n",
    "    s_forecast_61['forecast_date'].iloc[i] = pd.to_datetime(s_forecast_61['new_date'].iloc[i]) + dt.timedelta(hours = s_forecast_61['forecast'].iloc[i])\n",
    "    \n",
    "lis = list()\n",
    "for i in range(len(s_forecast_61)):\n",
    "    lis.append( str(s_forecast_61['forecast_date'].iloc[i]))\n",
    "\n",
    "s_forecast_61.set_index('forecast_date', drop=True ,append =False ,inplace=True)\n",
    "s_forecast_61.drop(['new_date','forecast'], axis=1, inplace=True)"
   ]
  },
  {
   "cell_type": "code",
   "execution_count": 548,
   "metadata": {},
   "outputs": [
    {
     "data": {
      "text/plain": [
       "'2019-01-01 09:00:00'"
      ]
     },
     "execution_count": 548,
     "metadata": {},
     "output_type": "execute_result"
    }
   ],
   "source": [
    "lis[1087]"
   ]
  },
  {
   "cell_type": "code",
   "execution_count": 549,
   "metadata": {},
   "outputs": [],
   "source": [
    "result_61 = list()\n",
    "for i in range(1087):\n",
    "    result_61.append(sum(s_real.loc[lis[i]] == s_forecast_61.iloc[i]))"
   ]
  },
  {
   "cell_type": "code",
   "execution_count": 550,
   "metadata": {},
   "outputs": [],
   "source": [
    "whole = 30*1087"
   ]
  },
  {
   "cell_type": "code",
   "execution_count": 551,
   "metadata": {},
   "outputs": [
    {
     "data": {
      "text/plain": [
       "94.10916896657467"
      ]
     },
     "execution_count": 551,
     "metadata": {},
     "output_type": "execute_result"
    }
   ],
   "source": [
    "sum(result_61)/whole*100"
   ]
  },
  {
   "cell_type": "markdown",
   "metadata": {},
   "source": [
    "## forecast = 64 예측률!"
   ]
  },
  {
   "cell_type": "code",
   "execution_count": 145,
   "metadata": {},
   "outputs": [],
   "source": [
    "s_forecast_64= s_forecast[s_forecast['forecast'] == 64 ]"
   ]
  },
  {
   "cell_type": "code",
   "execution_count": 147,
   "metadata": {},
   "outputs": [
    {
     "name": "stderr",
     "output_type": "stream",
     "text": [
      "C:\\Users\\INC\\Anaconda3\\lib\\site-packages\\ipykernel_launcher.py:1: SettingWithCopyWarning: \n",
      "A value is trying to be set on a copy of a slice from a DataFrame.\n",
      "Try using .loc[row_indexer,col_indexer] = value instead\n",
      "\n",
      "See the caveats in the documentation: https://pandas.pydata.org/pandas-docs/stable/user_guide/indexing.html#returning-a-view-versus-a-copy\n",
      "  \"\"\"Entry point for launching an IPython kernel.\n"
     ]
    }
   ],
   "source": [
    "s_forecast_64['forecast_date'] = dt.timedelta"
   ]
  },
  {
   "cell_type": "code",
   "execution_count": 148,
   "metadata": {},
   "outputs": [
    {
     "name": "stderr",
     "output_type": "stream",
     "text": [
      "C:\\Users\\INC\\Anaconda3\\lib\\site-packages\\pandas\\core\\indexing.py:671: SettingWithCopyWarning: \n",
      "A value is trying to be set on a copy of a slice from a DataFrame\n",
      "\n",
      "See the caveats in the documentation: https://pandas.pydata.org/pandas-docs/stable/user_guide/indexing.html#returning-a-view-versus-a-copy\n",
      "  self._setitem_with_indexer(indexer, value)\n",
      "C:\\Users\\INC\\Anaconda3\\lib\\site-packages\\ipykernel_launcher.py:2: SettingWithCopyWarning: \n",
      "A value is trying to be set on a copy of a slice from a DataFrame\n",
      "\n",
      "See the caveats in the documentation: https://pandas.pydata.org/pandas-docs/stable/user_guide/indexing.html#returning-a-view-versus-a-copy\n",
      "  \n"
     ]
    }
   ],
   "source": [
    "for i in range(0,len(s_forecast_64)):\n",
    "    s_forecast_64['forecast_date'].iloc[i] = pd.to_datetime(s_forecast_64['new_date'].iloc[i]) + dt.timedelta(hours = s_forecast_64['forecast'].iloc[i])"
   ]
  },
  {
   "cell_type": "code",
   "execution_count": 149,
   "metadata": {},
   "outputs": [
    {
     "data": {
      "text/html": [
       "<div>\n",
       "<style scoped>\n",
       "    .dataframe tbody tr th:only-of-type {\n",
       "        vertical-align: middle;\n",
       "    }\n",
       "\n",
       "    .dataframe tbody tr th {\n",
       "        vertical-align: top;\n",
       "    }\n",
       "\n",
       "    .dataframe thead th {\n",
       "        text-align: right;\n",
       "    }\n",
       "</style>\n",
       "<table border=\"1\" class=\"dataframe\">\n",
       "  <thead>\n",
       "    <tr style=\"text-align: right;\">\n",
       "      <th></th>\n",
       "      <th>s_57_125</th>\n",
       "      <th>s_57_126</th>\n",
       "      <th>s_57_127</th>\n",
       "      <th>s_58_124</th>\n",
       "      <th>s_58_125</th>\n",
       "      <th>s_58_126</th>\n",
       "      <th>s_58_127</th>\n",
       "      <th>s_59_124</th>\n",
       "      <th>s_59_125</th>\n",
       "      <th>s_59_126</th>\n",
       "      <th>...</th>\n",
       "      <th>s_61_128</th>\n",
       "      <th>s_61_129</th>\n",
       "      <th>s_62_125</th>\n",
       "      <th>s_62_126</th>\n",
       "      <th>s_62_127</th>\n",
       "      <th>s_62_128</th>\n",
       "      <th>s_62_129</th>\n",
       "      <th>s_63_125</th>\n",
       "      <th>s_63_126</th>\n",
       "      <th>s_63_127</th>\n",
       "    </tr>\n",
       "    <tr>\n",
       "      <th>new_date</th>\n",
       "      <th></th>\n",
       "      <th></th>\n",
       "      <th></th>\n",
       "      <th></th>\n",
       "      <th></th>\n",
       "      <th></th>\n",
       "      <th></th>\n",
       "      <th></th>\n",
       "      <th></th>\n",
       "      <th></th>\n",
       "      <th></th>\n",
       "      <th></th>\n",
       "      <th></th>\n",
       "      <th></th>\n",
       "      <th></th>\n",
       "      <th></th>\n",
       "      <th></th>\n",
       "      <th></th>\n",
       "      <th></th>\n",
       "      <th></th>\n",
       "      <th></th>\n",
       "    </tr>\n",
       "  </thead>\n",
       "  <tbody>\n",
       "    <tr>\n",
       "      <th>2018-01-01 00:00:00</th>\n",
       "      <td>0.0</td>\n",
       "      <td>0.0</td>\n",
       "      <td>0.0</td>\n",
       "      <td>0.0</td>\n",
       "      <td>0.0</td>\n",
       "      <td>0.0</td>\n",
       "      <td>0.0</td>\n",
       "      <td>0.0</td>\n",
       "      <td>0.0</td>\n",
       "      <td>0.0</td>\n",
       "      <td>...</td>\n",
       "      <td>0.0</td>\n",
       "      <td>0.0</td>\n",
       "      <td>0.0</td>\n",
       "      <td>0.0</td>\n",
       "      <td>0.0</td>\n",
       "      <td>0.0</td>\n",
       "      <td>0.0</td>\n",
       "      <td>0.0</td>\n",
       "      <td>0.0</td>\n",
       "      <td>0.0</td>\n",
       "    </tr>\n",
       "    <tr>\n",
       "      <th>2018-01-01 01:00:00</th>\n",
       "      <td>0.0</td>\n",
       "      <td>0.0</td>\n",
       "      <td>0.0</td>\n",
       "      <td>0.0</td>\n",
       "      <td>0.0</td>\n",
       "      <td>0.0</td>\n",
       "      <td>0.0</td>\n",
       "      <td>0.0</td>\n",
       "      <td>0.0</td>\n",
       "      <td>0.0</td>\n",
       "      <td>...</td>\n",
       "      <td>0.0</td>\n",
       "      <td>0.0</td>\n",
       "      <td>0.0</td>\n",
       "      <td>0.0</td>\n",
       "      <td>0.0</td>\n",
       "      <td>0.0</td>\n",
       "      <td>0.0</td>\n",
       "      <td>0.0</td>\n",
       "      <td>0.0</td>\n",
       "      <td>0.0</td>\n",
       "    </tr>\n",
       "    <tr>\n",
       "      <th>2018-01-01 02:00:00</th>\n",
       "      <td>0.0</td>\n",
       "      <td>0.0</td>\n",
       "      <td>0.0</td>\n",
       "      <td>0.0</td>\n",
       "      <td>0.0</td>\n",
       "      <td>0.0</td>\n",
       "      <td>0.0</td>\n",
       "      <td>0.0</td>\n",
       "      <td>0.0</td>\n",
       "      <td>0.0</td>\n",
       "      <td>...</td>\n",
       "      <td>0.0</td>\n",
       "      <td>0.0</td>\n",
       "      <td>0.0</td>\n",
       "      <td>0.0</td>\n",
       "      <td>0.0</td>\n",
       "      <td>0.0</td>\n",
       "      <td>0.0</td>\n",
       "      <td>0.0</td>\n",
       "      <td>0.0</td>\n",
       "      <td>0.0</td>\n",
       "    </tr>\n",
       "    <tr>\n",
       "      <th>2018-01-01 03:00:00</th>\n",
       "      <td>0.0</td>\n",
       "      <td>0.0</td>\n",
       "      <td>0.0</td>\n",
       "      <td>0.0</td>\n",
       "      <td>0.0</td>\n",
       "      <td>0.0</td>\n",
       "      <td>0.0</td>\n",
       "      <td>0.0</td>\n",
       "      <td>0.0</td>\n",
       "      <td>0.0</td>\n",
       "      <td>...</td>\n",
       "      <td>0.0</td>\n",
       "      <td>0.0</td>\n",
       "      <td>0.0</td>\n",
       "      <td>0.0</td>\n",
       "      <td>0.0</td>\n",
       "      <td>0.0</td>\n",
       "      <td>0.0</td>\n",
       "      <td>0.0</td>\n",
       "      <td>0.0</td>\n",
       "      <td>0.0</td>\n",
       "    </tr>\n",
       "    <tr>\n",
       "      <th>2018-01-01 04:00:00</th>\n",
       "      <td>0.0</td>\n",
       "      <td>0.0</td>\n",
       "      <td>0.0</td>\n",
       "      <td>0.0</td>\n",
       "      <td>0.0</td>\n",
       "      <td>0.0</td>\n",
       "      <td>0.0</td>\n",
       "      <td>0.0</td>\n",
       "      <td>0.0</td>\n",
       "      <td>0.0</td>\n",
       "      <td>...</td>\n",
       "      <td>0.0</td>\n",
       "      <td>0.0</td>\n",
       "      <td>0.0</td>\n",
       "      <td>0.0</td>\n",
       "      <td>0.0</td>\n",
       "      <td>0.0</td>\n",
       "      <td>0.0</td>\n",
       "      <td>0.0</td>\n",
       "      <td>0.0</td>\n",
       "      <td>0.0</td>\n",
       "    </tr>\n",
       "    <tr>\n",
       "      <th>...</th>\n",
       "      <td>...</td>\n",
       "      <td>...</td>\n",
       "      <td>...</td>\n",
       "      <td>...</td>\n",
       "      <td>...</td>\n",
       "      <td>...</td>\n",
       "      <td>...</td>\n",
       "      <td>...</td>\n",
       "      <td>...</td>\n",
       "      <td>...</td>\n",
       "      <td>...</td>\n",
       "      <td>...</td>\n",
       "      <td>...</td>\n",
       "      <td>...</td>\n",
       "      <td>...</td>\n",
       "      <td>...</td>\n",
       "      <td>...</td>\n",
       "      <td>...</td>\n",
       "      <td>...</td>\n",
       "      <td>...</td>\n",
       "      <td>...</td>\n",
       "    </tr>\n",
       "    <tr>\n",
       "      <th>2018-12-31 19:00:00</th>\n",
       "      <td>0.0</td>\n",
       "      <td>0.0</td>\n",
       "      <td>0.0</td>\n",
       "      <td>0.0</td>\n",
       "      <td>0.0</td>\n",
       "      <td>0.0</td>\n",
       "      <td>0.0</td>\n",
       "      <td>0.0</td>\n",
       "      <td>0.0</td>\n",
       "      <td>0.0</td>\n",
       "      <td>...</td>\n",
       "      <td>0.0</td>\n",
       "      <td>0.0</td>\n",
       "      <td>0.0</td>\n",
       "      <td>0.0</td>\n",
       "      <td>0.0</td>\n",
       "      <td>0.0</td>\n",
       "      <td>0.0</td>\n",
       "      <td>0.0</td>\n",
       "      <td>0.0</td>\n",
       "      <td>0.0</td>\n",
       "    </tr>\n",
       "    <tr>\n",
       "      <th>2018-12-31 20:00:00</th>\n",
       "      <td>0.0</td>\n",
       "      <td>0.0</td>\n",
       "      <td>0.0</td>\n",
       "      <td>0.0</td>\n",
       "      <td>0.0</td>\n",
       "      <td>0.0</td>\n",
       "      <td>0.0</td>\n",
       "      <td>0.0</td>\n",
       "      <td>0.0</td>\n",
       "      <td>0.0</td>\n",
       "      <td>...</td>\n",
       "      <td>0.0</td>\n",
       "      <td>0.0</td>\n",
       "      <td>0.0</td>\n",
       "      <td>0.0</td>\n",
       "      <td>0.0</td>\n",
       "      <td>0.0</td>\n",
       "      <td>0.0</td>\n",
       "      <td>0.0</td>\n",
       "      <td>0.0</td>\n",
       "      <td>0.0</td>\n",
       "    </tr>\n",
       "    <tr>\n",
       "      <th>2018-12-31 21:00:00</th>\n",
       "      <td>0.0</td>\n",
       "      <td>0.0</td>\n",
       "      <td>0.0</td>\n",
       "      <td>0.0</td>\n",
       "      <td>0.0</td>\n",
       "      <td>0.0</td>\n",
       "      <td>0.0</td>\n",
       "      <td>0.0</td>\n",
       "      <td>0.0</td>\n",
       "      <td>0.0</td>\n",
       "      <td>...</td>\n",
       "      <td>0.0</td>\n",
       "      <td>0.0</td>\n",
       "      <td>0.0</td>\n",
       "      <td>0.0</td>\n",
       "      <td>0.0</td>\n",
       "      <td>0.0</td>\n",
       "      <td>0.0</td>\n",
       "      <td>0.0</td>\n",
       "      <td>0.0</td>\n",
       "      <td>0.0</td>\n",
       "    </tr>\n",
       "    <tr>\n",
       "      <th>2018-12-31 22:00:00</th>\n",
       "      <td>0.0</td>\n",
       "      <td>0.0</td>\n",
       "      <td>0.0</td>\n",
       "      <td>0.0</td>\n",
       "      <td>0.0</td>\n",
       "      <td>0.0</td>\n",
       "      <td>0.0</td>\n",
       "      <td>0.0</td>\n",
       "      <td>0.0</td>\n",
       "      <td>0.0</td>\n",
       "      <td>...</td>\n",
       "      <td>0.0</td>\n",
       "      <td>0.0</td>\n",
       "      <td>0.0</td>\n",
       "      <td>0.0</td>\n",
       "      <td>0.0</td>\n",
       "      <td>0.0</td>\n",
       "      <td>0.0</td>\n",
       "      <td>0.0</td>\n",
       "      <td>0.0</td>\n",
       "      <td>0.0</td>\n",
       "    </tr>\n",
       "    <tr>\n",
       "      <th>2018-12-31 23:00:00</th>\n",
       "      <td>0.0</td>\n",
       "      <td>0.0</td>\n",
       "      <td>0.0</td>\n",
       "      <td>0.0</td>\n",
       "      <td>0.0</td>\n",
       "      <td>0.0</td>\n",
       "      <td>0.0</td>\n",
       "      <td>0.0</td>\n",
       "      <td>0.0</td>\n",
       "      <td>0.0</td>\n",
       "      <td>...</td>\n",
       "      <td>0.0</td>\n",
       "      <td>0.0</td>\n",
       "      <td>0.0</td>\n",
       "      <td>0.0</td>\n",
       "      <td>0.0</td>\n",
       "      <td>0.0</td>\n",
       "      <td>0.0</td>\n",
       "      <td>0.0</td>\n",
       "      <td>0.0</td>\n",
       "      <td>0.0</td>\n",
       "    </tr>\n",
       "  </tbody>\n",
       "</table>\n",
       "<p>8760 rows × 30 columns</p>\n",
       "</div>"
      ],
      "text/plain": [
       "                     s_57_125  s_57_126  s_57_127  s_58_124  s_58_125  \\\n",
       "new_date                                                                \n",
       "2018-01-01 00:00:00       0.0       0.0       0.0       0.0       0.0   \n",
       "2018-01-01 01:00:00       0.0       0.0       0.0       0.0       0.0   \n",
       "2018-01-01 02:00:00       0.0       0.0       0.0       0.0       0.0   \n",
       "2018-01-01 03:00:00       0.0       0.0       0.0       0.0       0.0   \n",
       "2018-01-01 04:00:00       0.0       0.0       0.0       0.0       0.0   \n",
       "...                       ...       ...       ...       ...       ...   \n",
       "2018-12-31 19:00:00       0.0       0.0       0.0       0.0       0.0   \n",
       "2018-12-31 20:00:00       0.0       0.0       0.0       0.0       0.0   \n",
       "2018-12-31 21:00:00       0.0       0.0       0.0       0.0       0.0   \n",
       "2018-12-31 22:00:00       0.0       0.0       0.0       0.0       0.0   \n",
       "2018-12-31 23:00:00       0.0       0.0       0.0       0.0       0.0   \n",
       "\n",
       "                     s_58_126  s_58_127  s_59_124  s_59_125  s_59_126  ...  \\\n",
       "new_date                                                               ...   \n",
       "2018-01-01 00:00:00       0.0       0.0       0.0       0.0       0.0  ...   \n",
       "2018-01-01 01:00:00       0.0       0.0       0.0       0.0       0.0  ...   \n",
       "2018-01-01 02:00:00       0.0       0.0       0.0       0.0       0.0  ...   \n",
       "2018-01-01 03:00:00       0.0       0.0       0.0       0.0       0.0  ...   \n",
       "2018-01-01 04:00:00       0.0       0.0       0.0       0.0       0.0  ...   \n",
       "...                       ...       ...       ...       ...       ...  ...   \n",
       "2018-12-31 19:00:00       0.0       0.0       0.0       0.0       0.0  ...   \n",
       "2018-12-31 20:00:00       0.0       0.0       0.0       0.0       0.0  ...   \n",
       "2018-12-31 21:00:00       0.0       0.0       0.0       0.0       0.0  ...   \n",
       "2018-12-31 22:00:00       0.0       0.0       0.0       0.0       0.0  ...   \n",
       "2018-12-31 23:00:00       0.0       0.0       0.0       0.0       0.0  ...   \n",
       "\n",
       "                     s_61_128  s_61_129  s_62_125  s_62_126  s_62_127  \\\n",
       "new_date                                                                \n",
       "2018-01-01 00:00:00       0.0       0.0       0.0       0.0       0.0   \n",
       "2018-01-01 01:00:00       0.0       0.0       0.0       0.0       0.0   \n",
       "2018-01-01 02:00:00       0.0       0.0       0.0       0.0       0.0   \n",
       "2018-01-01 03:00:00       0.0       0.0       0.0       0.0       0.0   \n",
       "2018-01-01 04:00:00       0.0       0.0       0.0       0.0       0.0   \n",
       "...                       ...       ...       ...       ...       ...   \n",
       "2018-12-31 19:00:00       0.0       0.0       0.0       0.0       0.0   \n",
       "2018-12-31 20:00:00       0.0       0.0       0.0       0.0       0.0   \n",
       "2018-12-31 21:00:00       0.0       0.0       0.0       0.0       0.0   \n",
       "2018-12-31 22:00:00       0.0       0.0       0.0       0.0       0.0   \n",
       "2018-12-31 23:00:00       0.0       0.0       0.0       0.0       0.0   \n",
       "\n",
       "                     s_62_128  s_62_129  s_63_125  s_63_126  s_63_127  \n",
       "new_date                                                               \n",
       "2018-01-01 00:00:00       0.0       0.0       0.0       0.0       0.0  \n",
       "2018-01-01 01:00:00       0.0       0.0       0.0       0.0       0.0  \n",
       "2018-01-01 02:00:00       0.0       0.0       0.0       0.0       0.0  \n",
       "2018-01-01 03:00:00       0.0       0.0       0.0       0.0       0.0  \n",
       "2018-01-01 04:00:00       0.0       0.0       0.0       0.0       0.0  \n",
       "...                       ...       ...       ...       ...       ...  \n",
       "2018-12-31 19:00:00       0.0       0.0       0.0       0.0       0.0  \n",
       "2018-12-31 20:00:00       0.0       0.0       0.0       0.0       0.0  \n",
       "2018-12-31 21:00:00       0.0       0.0       0.0       0.0       0.0  \n",
       "2018-12-31 22:00:00       0.0       0.0       0.0       0.0       0.0  \n",
       "2018-12-31 23:00:00       0.0       0.0       0.0       0.0       0.0  \n",
       "\n",
       "[8760 rows x 30 columns]"
      ]
     },
     "execution_count": 149,
     "metadata": {},
     "output_type": "execute_result"
    }
   ],
   "source": [
    "s_real"
   ]
  },
  {
   "cell_type": "code",
   "execution_count": 150,
   "metadata": {},
   "outputs": [],
   "source": [
    "lis = list()\n",
    "for i in range(len(s_forecast_64)):\n",
    "    lis.append( str(s_forecast_64['forecast_date'].iloc[i]))\n",
    "    "
   ]
  },
  {
   "cell_type": "code",
   "execution_count": 151,
   "metadata": {},
   "outputs": [
    {
     "data": {
      "text/plain": [
       "['2018-01-04 12:00:00',\n",
       " '2018-01-04 15:00:00',\n",
       " '2018-01-05 12:00:00',\n",
       " '2018-01-05 15:00:00',\n",
       " '2018-01-06 12:00:00',\n",
       " '2018-01-06 15:00:00',\n",
       " '2018-01-07 12:00:00',\n",
       " '2018-01-07 15:00:00',\n",
       " '2018-01-08 12:00:00',\n",
       " '2018-01-08 15:00:00',\n",
       " '2018-01-09 12:00:00',\n",
       " '2018-01-09 15:00:00',\n",
       " '2018-01-10 12:00:00',\n",
       " '2018-01-10 15:00:00',\n",
       " '2018-01-11 12:00:00',\n",
       " '2018-01-11 15:00:00',\n",
       " '2018-01-12 12:00:00',\n",
       " '2018-01-12 15:00:00',\n",
       " '2018-01-13 12:00:00',\n",
       " '2018-01-13 15:00:00',\n",
       " '2018-01-14 12:00:00',\n",
       " '2018-01-14 15:00:00',\n",
       " '2018-01-15 12:00:00',\n",
       " '2018-01-15 15:00:00',\n",
       " '2018-01-16 12:00:00',\n",
       " '2018-01-16 15:00:00',\n",
       " '2018-01-17 12:00:00',\n",
       " '2018-01-17 15:00:00',\n",
       " '2018-01-18 12:00:00',\n",
       " '2018-01-18 15:00:00',\n",
       " '2018-01-19 12:00:00',\n",
       " '2018-01-19 15:00:00',\n",
       " '2018-01-20 12:00:00',\n",
       " '2018-01-20 15:00:00',\n",
       " '2018-01-21 12:00:00',\n",
       " '2018-01-21 15:00:00',\n",
       " '2018-01-22 12:00:00',\n",
       " '2018-01-22 15:00:00',\n",
       " '2018-01-23 12:00:00',\n",
       " '2018-01-23 15:00:00',\n",
       " '2018-01-24 12:00:00',\n",
       " '2018-01-24 15:00:00',\n",
       " '2018-01-25 12:00:00',\n",
       " '2018-01-25 15:00:00',\n",
       " '2018-01-26 12:00:00',\n",
       " '2018-01-26 15:00:00',\n",
       " '2018-01-27 12:00:00',\n",
       " '2018-01-27 15:00:00',\n",
       " '2018-01-28 12:00:00',\n",
       " '2018-01-28 15:00:00',\n",
       " '2018-01-29 12:00:00',\n",
       " '2018-01-29 15:00:00',\n",
       " '2018-01-30 12:00:00',\n",
       " '2018-01-30 15:00:00',\n",
       " '2018-01-31 12:00:00',\n",
       " '2018-01-31 15:00:00',\n",
       " '2018-02-01 12:00:00',\n",
       " '2018-02-01 15:00:00',\n",
       " '2018-02-02 12:00:00',\n",
       " '2018-02-02 15:00:00',\n",
       " '2018-02-03 12:00:00',\n",
       " '2018-02-03 15:00:00',\n",
       " '2018-02-04 12:00:00',\n",
       " '2018-02-04 15:00:00',\n",
       " '2018-02-05 12:00:00',\n",
       " '2018-02-05 15:00:00',\n",
       " '2018-02-06 12:00:00',\n",
       " '2018-02-06 15:00:00',\n",
       " '2018-02-07 12:00:00',\n",
       " '2018-02-07 15:00:00',\n",
       " '2018-02-08 12:00:00',\n",
       " '2018-02-08 15:00:00',\n",
       " '2018-02-09 12:00:00',\n",
       " '2018-02-09 15:00:00',\n",
       " '2018-02-10 12:00:00',\n",
       " '2018-02-10 15:00:00',\n",
       " '2018-02-11 12:00:00',\n",
       " '2018-02-11 15:00:00',\n",
       " '2018-02-12 12:00:00',\n",
       " '2018-02-12 15:00:00',\n",
       " '2018-02-13 12:00:00',\n",
       " '2018-02-13 15:00:00',\n",
       " '2018-02-14 12:00:00',\n",
       " '2018-02-14 15:00:00',\n",
       " '2018-02-15 12:00:00',\n",
       " '2018-02-15 15:00:00',\n",
       " '2018-02-16 12:00:00',\n",
       " '2018-02-16 15:00:00',\n",
       " '2018-02-17 12:00:00',\n",
       " '2018-02-17 15:00:00',\n",
       " '2018-02-18 12:00:00',\n",
       " '2018-02-18 15:00:00',\n",
       " '2018-02-19 12:00:00',\n",
       " '2018-02-19 15:00:00',\n",
       " '2018-02-20 12:00:00',\n",
       " '2018-02-20 15:00:00',\n",
       " '2018-02-21 12:00:00',\n",
       " '2018-02-21 15:00:00',\n",
       " '2018-02-22 12:00:00',\n",
       " '2018-02-22 15:00:00',\n",
       " '2018-02-23 12:00:00',\n",
       " '2018-02-23 15:00:00',\n",
       " '2018-02-24 12:00:00',\n",
       " '2018-02-24 15:00:00',\n",
       " '2018-02-25 12:00:00',\n",
       " '2018-02-25 15:00:00',\n",
       " '2018-02-26 12:00:00',\n",
       " '2018-02-26 15:00:00',\n",
       " '2018-02-27 12:00:00',\n",
       " '2018-02-27 15:00:00',\n",
       " '2018-02-28 12:00:00',\n",
       " '2018-02-28 15:00:00',\n",
       " '2018-03-01 12:00:00',\n",
       " '2018-03-01 15:00:00',\n",
       " '2018-03-02 12:00:00',\n",
       " '2018-03-02 15:00:00',\n",
       " '2018-03-03 12:00:00',\n",
       " '2018-03-03 15:00:00',\n",
       " '2018-03-04 12:00:00',\n",
       " '2018-03-04 15:00:00',\n",
       " '2018-03-05 12:00:00',\n",
       " '2018-03-05 15:00:00',\n",
       " '2018-03-06 12:00:00',\n",
       " '2018-03-06 15:00:00',\n",
       " '2018-03-07 12:00:00',\n",
       " '2018-03-07 15:00:00',\n",
       " '2018-03-08 12:00:00',\n",
       " '2018-03-08 15:00:00',\n",
       " '2018-03-09 12:00:00',\n",
       " '2018-03-09 15:00:00',\n",
       " '2018-03-10 12:00:00',\n",
       " '2018-03-10 15:00:00',\n",
       " '2018-03-11 12:00:00',\n",
       " '2018-03-11 15:00:00',\n",
       " '2018-03-12 12:00:00',\n",
       " '2018-03-12 15:00:00',\n",
       " '2018-03-13 12:00:00',\n",
       " '2018-03-13 15:00:00',\n",
       " '2018-03-14 12:00:00',\n",
       " '2018-03-14 15:00:00',\n",
       " '2018-03-15 12:00:00',\n",
       " '2018-03-15 15:00:00',\n",
       " '2018-03-16 12:00:00',\n",
       " '2018-03-16 15:00:00',\n",
       " '2018-03-17 12:00:00',\n",
       " '2018-03-17 15:00:00',\n",
       " '2018-03-18 12:00:00',\n",
       " '2018-03-18 15:00:00',\n",
       " '2018-03-19 12:00:00',\n",
       " '2018-03-19 15:00:00',\n",
       " '2018-03-20 12:00:00',\n",
       " '2018-03-20 15:00:00',\n",
       " '2018-03-21 12:00:00',\n",
       " '2018-03-21 15:00:00',\n",
       " '2018-03-22 12:00:00',\n",
       " '2018-03-22 15:00:00',\n",
       " '2018-03-23 12:00:00',\n",
       " '2018-03-23 15:00:00',\n",
       " '2018-03-24 12:00:00',\n",
       " '2018-03-24 15:00:00',\n",
       " '2018-03-25 12:00:00',\n",
       " '2018-03-25 15:00:00',\n",
       " '2018-03-26 12:00:00',\n",
       " '2018-03-26 15:00:00',\n",
       " '2018-03-27 12:00:00',\n",
       " '2018-03-27 15:00:00',\n",
       " '2018-03-28 12:00:00',\n",
       " '2018-03-28 15:00:00',\n",
       " '2018-03-29 12:00:00',\n",
       " '2018-03-29 15:00:00',\n",
       " '2018-03-30 12:00:00',\n",
       " '2018-03-30 15:00:00',\n",
       " '2018-03-31 12:00:00',\n",
       " '2018-03-31 15:00:00',\n",
       " '2018-04-01 12:00:00',\n",
       " '2018-04-01 15:00:00',\n",
       " '2018-04-02 12:00:00',\n",
       " '2018-04-02 15:00:00',\n",
       " '2018-04-03 12:00:00',\n",
       " '2018-04-03 15:00:00',\n",
       " '2018-04-04 12:00:00',\n",
       " '2018-04-04 15:00:00',\n",
       " '2018-04-05 12:00:00',\n",
       " '2018-04-05 15:00:00',\n",
       " '2018-04-06 12:00:00',\n",
       " '2018-04-06 15:00:00',\n",
       " '2018-04-07 12:00:00',\n",
       " '2018-04-07 15:00:00',\n",
       " '2018-04-08 12:00:00',\n",
       " '2018-04-08 15:00:00',\n",
       " '2018-04-09 12:00:00',\n",
       " '2018-04-09 15:00:00',\n",
       " '2018-04-10 12:00:00',\n",
       " '2018-04-10 15:00:00',\n",
       " '2018-04-11 12:00:00',\n",
       " '2018-04-11 15:00:00',\n",
       " '2018-04-12 12:00:00',\n",
       " '2018-04-12 15:00:00',\n",
       " '2018-04-13 12:00:00',\n",
       " '2018-04-13 15:00:00',\n",
       " '2018-04-14 12:00:00',\n",
       " '2018-04-14 15:00:00',\n",
       " '2018-04-15 12:00:00',\n",
       " '2018-04-15 15:00:00',\n",
       " '2018-04-16 12:00:00',\n",
       " '2018-04-16 15:00:00',\n",
       " '2018-04-17 12:00:00',\n",
       " '2018-04-17 15:00:00',\n",
       " '2018-04-18 12:00:00',\n",
       " '2018-04-18 15:00:00',\n",
       " '2018-04-19 12:00:00',\n",
       " '2018-04-19 15:00:00',\n",
       " '2018-04-20 12:00:00',\n",
       " '2018-04-20 15:00:00',\n",
       " '2018-04-21 12:00:00',\n",
       " '2018-04-21 15:00:00',\n",
       " '2018-04-22 12:00:00',\n",
       " '2018-04-22 15:00:00',\n",
       " '2018-04-23 12:00:00',\n",
       " '2018-04-23 15:00:00',\n",
       " '2018-04-24 12:00:00',\n",
       " '2018-04-24 15:00:00',\n",
       " '2018-04-25 12:00:00',\n",
       " '2018-04-25 15:00:00',\n",
       " '2018-04-26 12:00:00',\n",
       " '2018-04-26 15:00:00',\n",
       " '2018-04-27 12:00:00',\n",
       " '2018-04-27 15:00:00',\n",
       " '2018-04-28 12:00:00',\n",
       " '2018-04-28 15:00:00',\n",
       " '2018-04-29 12:00:00',\n",
       " '2018-04-29 15:00:00',\n",
       " '2018-04-30 12:00:00',\n",
       " '2018-04-30 15:00:00',\n",
       " '2018-05-01 12:00:00',\n",
       " '2018-05-01 15:00:00',\n",
       " '2018-05-02 12:00:00',\n",
       " '2018-05-02 15:00:00',\n",
       " '2018-05-03 12:00:00',\n",
       " '2018-05-03 15:00:00',\n",
       " '2018-05-04 12:00:00',\n",
       " '2018-05-04 15:00:00',\n",
       " '2018-05-05 12:00:00',\n",
       " '2018-05-05 15:00:00',\n",
       " '2018-05-06 12:00:00',\n",
       " '2018-05-06 15:00:00',\n",
       " '2018-05-07 12:00:00',\n",
       " '2018-05-07 15:00:00',\n",
       " '2018-05-08 12:00:00',\n",
       " '2018-05-08 15:00:00',\n",
       " '2018-05-09 12:00:00',\n",
       " '2018-05-09 15:00:00',\n",
       " '2018-05-10 12:00:00',\n",
       " '2018-05-10 15:00:00',\n",
       " '2018-05-11 12:00:00',\n",
       " '2018-05-11 15:00:00',\n",
       " '2018-05-12 12:00:00',\n",
       " '2018-05-12 15:00:00',\n",
       " '2018-05-13 12:00:00',\n",
       " '2018-05-13 15:00:00',\n",
       " '2018-05-14 12:00:00',\n",
       " '2018-05-14 15:00:00',\n",
       " '2018-05-15 12:00:00',\n",
       " '2018-05-15 15:00:00',\n",
       " '2018-05-16 12:00:00',\n",
       " '2018-05-16 15:00:00',\n",
       " '2018-05-17 12:00:00',\n",
       " '2018-05-17 15:00:00',\n",
       " '2018-05-18 12:00:00',\n",
       " '2018-05-18 15:00:00',\n",
       " '2018-05-19 12:00:00',\n",
       " '2018-05-19 15:00:00',\n",
       " '2018-05-20 12:00:00',\n",
       " '2018-05-20 15:00:00',\n",
       " '2018-05-21 12:00:00',\n",
       " '2018-05-21 15:00:00',\n",
       " '2018-05-22 12:00:00',\n",
       " '2018-05-22 15:00:00',\n",
       " '2018-05-23 12:00:00',\n",
       " '2018-05-23 15:00:00',\n",
       " '2018-05-24 12:00:00',\n",
       " '2018-05-24 15:00:00',\n",
       " '2018-05-25 12:00:00',\n",
       " '2018-05-25 15:00:00',\n",
       " '2018-05-26 12:00:00',\n",
       " '2018-05-26 15:00:00',\n",
       " '2018-05-27 12:00:00',\n",
       " '2018-05-27 15:00:00',\n",
       " '2018-05-28 12:00:00',\n",
       " '2018-05-28 15:00:00',\n",
       " '2018-05-29 12:00:00',\n",
       " '2018-05-29 15:00:00',\n",
       " '2018-05-30 12:00:00',\n",
       " '2018-05-30 15:00:00',\n",
       " '2018-05-31 12:00:00',\n",
       " '2018-05-31 15:00:00',\n",
       " '2018-06-01 12:00:00',\n",
       " '2018-06-01 15:00:00',\n",
       " '2018-06-02 12:00:00',\n",
       " '2018-06-02 15:00:00',\n",
       " '2018-06-03 12:00:00',\n",
       " '2018-06-03 15:00:00',\n",
       " '2018-06-04 12:00:00',\n",
       " '2018-06-04 15:00:00',\n",
       " '2018-06-05 12:00:00',\n",
       " '2018-06-05 15:00:00',\n",
       " '2018-06-06 12:00:00',\n",
       " '2018-06-06 15:00:00',\n",
       " '2018-06-07 12:00:00',\n",
       " '2018-06-07 15:00:00',\n",
       " '2018-06-08 12:00:00',\n",
       " '2018-06-08 15:00:00',\n",
       " '2018-06-09 12:00:00',\n",
       " '2018-06-09 15:00:00',\n",
       " '2018-06-10 12:00:00',\n",
       " '2018-06-10 15:00:00',\n",
       " '2018-06-11 12:00:00',\n",
       " '2018-06-11 15:00:00',\n",
       " '2018-06-12 12:00:00',\n",
       " '2018-06-12 15:00:00',\n",
       " '2018-06-13 12:00:00',\n",
       " '2018-06-13 15:00:00',\n",
       " '2018-06-14 12:00:00',\n",
       " '2018-06-14 15:00:00',\n",
       " '2018-06-15 12:00:00',\n",
       " '2018-06-15 15:00:00',\n",
       " '2018-06-16 12:00:00',\n",
       " '2018-06-16 15:00:00',\n",
       " '2018-06-17 12:00:00',\n",
       " '2018-06-17 15:00:00',\n",
       " '2018-06-18 12:00:00',\n",
       " '2018-06-18 15:00:00',\n",
       " '2018-06-19 12:00:00',\n",
       " '2018-06-19 15:00:00',\n",
       " '2018-06-20 12:00:00',\n",
       " '2018-06-20 15:00:00',\n",
       " '2018-06-21 12:00:00',\n",
       " '2018-06-21 15:00:00',\n",
       " '2018-06-22 12:00:00',\n",
       " '2018-06-22 15:00:00',\n",
       " '2018-06-23 12:00:00',\n",
       " '2018-06-23 15:00:00',\n",
       " '2018-06-24 12:00:00',\n",
       " '2018-06-24 15:00:00',\n",
       " '2018-06-25 12:00:00',\n",
       " '2018-06-25 15:00:00',\n",
       " '2018-06-26 12:00:00',\n",
       " '2018-06-26 15:00:00',\n",
       " '2018-06-27 12:00:00',\n",
       " '2018-06-27 15:00:00',\n",
       " '2018-06-28 12:00:00',\n",
       " '2018-06-28 15:00:00',\n",
       " '2018-06-29 12:00:00',\n",
       " '2018-06-29 15:00:00',\n",
       " '2018-06-30 12:00:00',\n",
       " '2018-06-30 15:00:00',\n",
       " '2018-07-01 12:00:00',\n",
       " '2018-07-01 15:00:00',\n",
       " '2018-07-02 12:00:00',\n",
       " '2018-07-02 15:00:00',\n",
       " '2018-07-03 12:00:00',\n",
       " '2018-07-03 15:00:00',\n",
       " '2018-07-04 12:00:00',\n",
       " '2018-07-04 15:00:00',\n",
       " '2018-07-05 12:00:00',\n",
       " '2018-07-05 15:00:00',\n",
       " '2018-07-06 12:00:00',\n",
       " '2018-07-06 15:00:00',\n",
       " '2018-07-07 12:00:00',\n",
       " '2018-07-07 15:00:00',\n",
       " '2018-07-08 12:00:00',\n",
       " '2018-07-08 15:00:00',\n",
       " '2018-07-09 12:00:00',\n",
       " '2018-07-09 15:00:00',\n",
       " '2018-07-10 12:00:00',\n",
       " '2018-07-10 15:00:00',\n",
       " '2018-07-11 12:00:00',\n",
       " '2018-07-11 15:00:00',\n",
       " '2018-07-12 12:00:00',\n",
       " '2018-07-12 15:00:00',\n",
       " '2018-07-13 12:00:00',\n",
       " '2018-07-13 15:00:00',\n",
       " '2018-07-14 12:00:00',\n",
       " '2018-07-14 15:00:00',\n",
       " '2018-07-15 12:00:00',\n",
       " '2018-07-15 15:00:00',\n",
       " '2018-07-16 12:00:00',\n",
       " '2018-07-16 15:00:00',\n",
       " '2018-07-17 12:00:00',\n",
       " '2018-07-17 15:00:00',\n",
       " '2018-07-18 12:00:00',\n",
       " '2018-07-18 15:00:00',\n",
       " '2018-07-19 12:00:00',\n",
       " '2018-07-19 15:00:00',\n",
       " '2018-07-20 12:00:00',\n",
       " '2018-07-20 15:00:00',\n",
       " '2018-07-21 12:00:00',\n",
       " '2018-07-21 15:00:00',\n",
       " '2018-07-22 12:00:00',\n",
       " '2018-07-22 15:00:00',\n",
       " '2018-07-23 12:00:00',\n",
       " '2018-07-23 15:00:00',\n",
       " '2018-07-24 12:00:00',\n",
       " '2018-07-24 15:00:00',\n",
       " '2018-07-25 12:00:00',\n",
       " '2018-07-25 15:00:00',\n",
       " '2018-07-26 12:00:00',\n",
       " '2018-07-26 15:00:00',\n",
       " '2018-07-27 12:00:00',\n",
       " '2018-07-27 15:00:00',\n",
       " '2018-07-28 12:00:00',\n",
       " '2018-07-28 15:00:00',\n",
       " '2018-07-29 12:00:00',\n",
       " '2018-07-29 15:00:00',\n",
       " '2018-07-30 12:00:00',\n",
       " '2018-07-30 15:00:00',\n",
       " '2018-07-31 12:00:00',\n",
       " '2018-07-31 15:00:00',\n",
       " '2018-08-01 12:00:00',\n",
       " '2018-08-01 15:00:00',\n",
       " '2018-08-02 12:00:00',\n",
       " '2018-08-02 15:00:00',\n",
       " '2018-08-03 12:00:00',\n",
       " '2018-08-03 15:00:00',\n",
       " '2018-08-04 12:00:00',\n",
       " '2018-08-04 15:00:00',\n",
       " '2018-08-05 12:00:00',\n",
       " '2018-08-05 15:00:00',\n",
       " '2018-08-06 12:00:00',\n",
       " '2018-08-06 15:00:00',\n",
       " '2018-08-07 12:00:00',\n",
       " '2018-08-07 15:00:00',\n",
       " '2018-08-08 12:00:00',\n",
       " '2018-08-08 15:00:00',\n",
       " '2018-08-09 12:00:00',\n",
       " '2018-08-09 15:00:00',\n",
       " '2018-08-10 12:00:00',\n",
       " '2018-08-10 15:00:00',\n",
       " '2018-08-11 12:00:00',\n",
       " '2018-08-11 15:00:00',\n",
       " '2018-08-12 12:00:00',\n",
       " '2018-08-12 15:00:00',\n",
       " '2018-08-13 12:00:00',\n",
       " '2018-08-13 15:00:00',\n",
       " '2018-08-14 12:00:00',\n",
       " '2018-08-14 15:00:00',\n",
       " '2018-08-15 12:00:00',\n",
       " '2018-08-15 15:00:00',\n",
       " '2018-08-16 12:00:00',\n",
       " '2018-08-16 15:00:00',\n",
       " '2018-08-17 12:00:00',\n",
       " '2018-08-17 15:00:00',\n",
       " '2018-08-18 12:00:00',\n",
       " '2018-08-18 15:00:00',\n",
       " '2018-08-19 12:00:00',\n",
       " '2018-08-19 15:00:00',\n",
       " '2018-08-20 12:00:00',\n",
       " '2018-08-20 15:00:00',\n",
       " '2018-08-21 12:00:00',\n",
       " '2018-08-21 15:00:00',\n",
       " '2018-08-22 12:00:00',\n",
       " '2018-08-22 15:00:00',\n",
       " '2018-08-23 12:00:00',\n",
       " '2018-08-23 15:00:00',\n",
       " '2018-08-24 12:00:00',\n",
       " '2018-08-24 15:00:00',\n",
       " '2018-08-25 12:00:00',\n",
       " '2018-08-25 15:00:00',\n",
       " '2018-08-26 12:00:00',\n",
       " '2018-08-26 15:00:00',\n",
       " '2018-08-27 12:00:00',\n",
       " '2018-08-27 15:00:00',\n",
       " '2018-08-28 12:00:00',\n",
       " '2018-08-28 15:00:00',\n",
       " '2018-08-29 12:00:00',\n",
       " '2018-08-29 15:00:00',\n",
       " '2018-08-30 12:00:00',\n",
       " '2018-08-30 15:00:00',\n",
       " '2018-08-31 12:00:00',\n",
       " '2018-08-31 15:00:00',\n",
       " '2018-09-01 12:00:00',\n",
       " '2018-09-01 15:00:00',\n",
       " '2018-09-02 12:00:00',\n",
       " '2018-09-02 15:00:00',\n",
       " '2018-09-03 12:00:00',\n",
       " '2018-09-03 15:00:00',\n",
       " '2018-09-04 12:00:00',\n",
       " '2018-09-04 15:00:00',\n",
       " '2018-09-05 12:00:00',\n",
       " '2018-09-05 15:00:00',\n",
       " '2018-09-06 12:00:00',\n",
       " '2018-09-06 15:00:00',\n",
       " '2018-09-07 12:00:00',\n",
       " '2018-09-07 15:00:00',\n",
       " '2018-09-08 12:00:00',\n",
       " '2018-09-08 15:00:00',\n",
       " '2018-09-09 12:00:00',\n",
       " '2018-09-09 15:00:00',\n",
       " '2018-09-10 12:00:00',\n",
       " '2018-09-10 15:00:00',\n",
       " '2018-09-11 12:00:00',\n",
       " '2018-09-11 15:00:00',\n",
       " '2018-09-12 12:00:00',\n",
       " '2018-09-12 15:00:00',\n",
       " '2018-09-13 12:00:00',\n",
       " '2018-09-13 15:00:00',\n",
       " '2018-09-14 12:00:00',\n",
       " '2018-09-14 15:00:00',\n",
       " '2018-09-15 12:00:00',\n",
       " '2018-09-15 15:00:00',\n",
       " '2018-09-16 12:00:00',\n",
       " '2018-09-16 15:00:00',\n",
       " '2018-09-17 12:00:00',\n",
       " '2018-09-17 15:00:00',\n",
       " '2018-09-18 12:00:00',\n",
       " '2018-09-18 15:00:00',\n",
       " '2018-09-19 12:00:00',\n",
       " '2018-09-19 15:00:00',\n",
       " '2018-09-20 12:00:00',\n",
       " '2018-09-20 15:00:00',\n",
       " '2018-09-21 12:00:00',\n",
       " '2018-09-21 15:00:00',\n",
       " '2018-09-22 12:00:00',\n",
       " '2018-09-22 15:00:00',\n",
       " '2018-09-23 12:00:00',\n",
       " '2018-09-23 15:00:00',\n",
       " '2018-09-24 12:00:00',\n",
       " '2018-09-24 15:00:00',\n",
       " '2018-09-25 12:00:00',\n",
       " '2018-09-25 15:00:00',\n",
       " '2018-09-26 12:00:00',\n",
       " '2018-09-26 15:00:00',\n",
       " '2018-09-27 12:00:00',\n",
       " '2018-09-27 15:00:00',\n",
       " '2018-09-28 12:00:00',\n",
       " '2018-09-28 15:00:00',\n",
       " '2018-09-29 12:00:00',\n",
       " '2018-09-29 15:00:00',\n",
       " '2018-09-30 12:00:00',\n",
       " '2018-09-30 15:00:00',\n",
       " '2018-10-01 12:00:00',\n",
       " '2018-10-01 15:00:00',\n",
       " '2018-10-02 12:00:00',\n",
       " '2018-10-02 15:00:00',\n",
       " '2018-10-03 12:00:00',\n",
       " '2018-10-03 15:00:00',\n",
       " '2018-10-04 12:00:00',\n",
       " '2018-10-04 15:00:00',\n",
       " '2018-10-05 12:00:00',\n",
       " '2018-10-05 15:00:00',\n",
       " '2018-10-06 12:00:00',\n",
       " '2018-10-06 15:00:00',\n",
       " '2018-10-07 12:00:00',\n",
       " '2018-10-07 15:00:00',\n",
       " '2018-10-08 12:00:00',\n",
       " '2018-10-08 15:00:00',\n",
       " '2018-10-09 12:00:00',\n",
       " '2018-10-09 15:00:00',\n",
       " '2018-10-10 12:00:00',\n",
       " '2018-10-10 15:00:00',\n",
       " '2018-10-11 12:00:00',\n",
       " '2018-10-11 15:00:00',\n",
       " '2018-10-12 12:00:00',\n",
       " '2018-10-12 15:00:00',\n",
       " '2018-10-13 12:00:00',\n",
       " '2018-10-13 15:00:00',\n",
       " '2018-10-14 12:00:00',\n",
       " '2018-10-14 15:00:00',\n",
       " '2018-10-15 12:00:00',\n",
       " '2018-10-15 15:00:00',\n",
       " '2018-10-16 12:00:00',\n",
       " '2018-10-16 15:00:00',\n",
       " '2018-10-17 12:00:00',\n",
       " '2018-10-17 15:00:00',\n",
       " '2018-10-18 12:00:00',\n",
       " '2018-10-18 15:00:00',\n",
       " '2018-10-19 12:00:00',\n",
       " '2018-10-19 15:00:00',\n",
       " '2018-10-20 12:00:00',\n",
       " '2018-10-20 15:00:00',\n",
       " '2018-10-21 12:00:00',\n",
       " '2018-10-21 15:00:00',\n",
       " '2018-10-22 12:00:00',\n",
       " '2018-10-22 15:00:00',\n",
       " '2018-10-23 12:00:00',\n",
       " '2018-10-23 15:00:00',\n",
       " '2018-10-24 12:00:00',\n",
       " '2018-10-24 15:00:00',\n",
       " '2018-10-25 12:00:00',\n",
       " '2018-10-25 15:00:00',\n",
       " '2018-10-26 12:00:00',\n",
       " '2018-10-26 15:00:00',\n",
       " '2018-10-27 12:00:00',\n",
       " '2018-10-27 15:00:00',\n",
       " '2018-10-28 12:00:00',\n",
       " '2018-10-28 15:00:00',\n",
       " '2018-10-29 12:00:00',\n",
       " '2018-10-29 15:00:00',\n",
       " '2018-10-30 12:00:00',\n",
       " '2018-10-30 15:00:00',\n",
       " '2018-10-31 12:00:00',\n",
       " '2018-10-31 15:00:00',\n",
       " '2018-11-01 12:00:00',\n",
       " '2018-11-01 15:00:00',\n",
       " '2018-11-02 12:00:00',\n",
       " '2018-11-02 15:00:00',\n",
       " '2018-11-03 12:00:00',\n",
       " '2018-11-03 15:00:00',\n",
       " '2018-11-04 12:00:00',\n",
       " '2018-11-04 15:00:00',\n",
       " '2018-11-05 12:00:00',\n",
       " '2018-11-05 15:00:00',\n",
       " '2018-11-06 12:00:00',\n",
       " '2018-11-06 15:00:00',\n",
       " '2018-11-07 12:00:00',\n",
       " '2018-11-07 15:00:00',\n",
       " '2018-11-08 12:00:00',\n",
       " '2018-11-08 15:00:00',\n",
       " '2018-11-09 12:00:00',\n",
       " '2018-11-09 15:00:00',\n",
       " '2018-11-10 12:00:00',\n",
       " '2018-11-10 15:00:00',\n",
       " '2018-11-11 12:00:00',\n",
       " '2018-11-11 15:00:00',\n",
       " '2018-11-12 12:00:00',\n",
       " '2018-11-12 15:00:00',\n",
       " '2018-11-13 12:00:00',\n",
       " '2018-11-13 15:00:00',\n",
       " '2018-11-14 12:00:00',\n",
       " '2018-11-14 15:00:00',\n",
       " '2018-11-15 12:00:00',\n",
       " '2018-11-15 15:00:00',\n",
       " '2018-11-16 12:00:00',\n",
       " '2018-11-16 15:00:00',\n",
       " '2018-11-17 12:00:00',\n",
       " '2018-11-17 15:00:00',\n",
       " '2018-11-18 12:00:00',\n",
       " '2018-11-18 15:00:00',\n",
       " '2018-11-19 12:00:00',\n",
       " '2018-11-19 15:00:00',\n",
       " '2018-11-20 12:00:00',\n",
       " '2018-11-20 15:00:00',\n",
       " '2018-11-21 12:00:00',\n",
       " '2018-11-21 15:00:00',\n",
       " '2018-11-22 12:00:00',\n",
       " '2018-11-22 15:00:00',\n",
       " '2018-11-23 12:00:00',\n",
       " '2018-11-23 15:00:00',\n",
       " '2018-11-24 12:00:00',\n",
       " '2018-11-24 15:00:00',\n",
       " '2018-11-25 12:00:00',\n",
       " '2018-11-25 15:00:00',\n",
       " '2018-11-26 12:00:00',\n",
       " '2018-11-26 15:00:00',\n",
       " '2018-11-27 12:00:00',\n",
       " '2018-11-27 15:00:00',\n",
       " '2018-11-28 12:00:00',\n",
       " '2018-11-28 15:00:00',\n",
       " '2018-11-29 12:00:00',\n",
       " '2018-11-29 15:00:00',\n",
       " '2018-11-30 12:00:00',\n",
       " '2018-11-30 15:00:00',\n",
       " '2018-12-01 12:00:00',\n",
       " '2018-12-01 15:00:00',\n",
       " '2018-12-02 12:00:00',\n",
       " '2018-12-02 15:00:00',\n",
       " '2018-12-03 12:00:00',\n",
       " '2018-12-03 15:00:00',\n",
       " '2018-12-04 12:00:00',\n",
       " '2018-12-04 15:00:00',\n",
       " '2018-12-05 12:00:00',\n",
       " '2018-12-05 15:00:00',\n",
       " '2018-12-06 12:00:00',\n",
       " '2018-12-06 15:00:00',\n",
       " '2018-12-07 12:00:00',\n",
       " '2018-12-07 15:00:00',\n",
       " '2018-12-08 12:00:00',\n",
       " '2018-12-08 15:00:00',\n",
       " '2018-12-09 12:00:00',\n",
       " '2018-12-09 15:00:00',\n",
       " '2018-12-10 12:00:00',\n",
       " '2018-12-10 15:00:00',\n",
       " '2018-12-11 12:00:00',\n",
       " '2018-12-11 15:00:00',\n",
       " '2018-12-12 12:00:00',\n",
       " '2018-12-12 15:00:00',\n",
       " '2018-12-13 12:00:00',\n",
       " '2018-12-13 15:00:00',\n",
       " '2018-12-14 12:00:00',\n",
       " '2018-12-14 15:00:00',\n",
       " '2018-12-15 12:00:00',\n",
       " '2018-12-15 15:00:00',\n",
       " '2018-12-16 12:00:00',\n",
       " '2018-12-16 15:00:00',\n",
       " '2018-12-17 12:00:00',\n",
       " '2018-12-17 15:00:00',\n",
       " '2018-12-18 12:00:00',\n",
       " '2018-12-18 15:00:00',\n",
       " '2018-12-19 12:00:00',\n",
       " '2018-12-19 15:00:00',\n",
       " '2018-12-20 12:00:00',\n",
       " '2018-12-20 15:00:00',\n",
       " '2018-12-21 12:00:00',\n",
       " '2018-12-21 15:00:00',\n",
       " '2018-12-22 12:00:00',\n",
       " '2018-12-22 15:00:00',\n",
       " '2018-12-23 12:00:00',\n",
       " '2018-12-23 15:00:00',\n",
       " '2018-12-24 12:00:00',\n",
       " '2018-12-24 15:00:00',\n",
       " '2018-12-25 12:00:00',\n",
       " '2018-12-25 15:00:00',\n",
       " '2018-12-26 12:00:00',\n",
       " '2018-12-26 15:00:00',\n",
       " '2018-12-27 12:00:00',\n",
       " '2018-12-27 15:00:00',\n",
       " '2018-12-28 12:00:00',\n",
       " '2018-12-28 15:00:00',\n",
       " '2018-12-29 12:00:00',\n",
       " '2018-12-29 15:00:00',\n",
       " '2018-12-30 12:00:00',\n",
       " '2018-12-30 15:00:00',\n",
       " '2018-12-31 12:00:00',\n",
       " '2018-12-31 15:00:00',\n",
       " '2019-01-01 12:00:00',\n",
       " '2019-01-01 15:00:00',\n",
       " '2019-01-02 12:00:00',\n",
       " '2019-01-02 15:00:00',\n",
       " '2019-01-03 12:00:00',\n",
       " '2019-01-03 15:00:00']"
      ]
     },
     "execution_count": 151,
     "metadata": {},
     "output_type": "execute_result"
    }
   ],
   "source": [
    "lis"
   ]
  },
  {
   "cell_type": "code",
   "execution_count": 152,
   "metadata": {},
   "outputs": [],
   "source": [
    "s_forecast_64.set_index('forecast_date', drop=True ,append =False ,inplace=True)"
   ]
  },
  {
   "cell_type": "code",
   "execution_count": 153,
   "metadata": {},
   "outputs": [
    {
     "name": "stderr",
     "output_type": "stream",
     "text": [
      "C:\\Users\\INC\\Anaconda3\\lib\\site-packages\\pandas\\core\\frame.py:3997: SettingWithCopyWarning: \n",
      "A value is trying to be set on a copy of a slice from a DataFrame\n",
      "\n",
      "See the caveats in the documentation: https://pandas.pydata.org/pandas-docs/stable/user_guide/indexing.html#returning-a-view-versus-a-copy\n",
      "  errors=errors,\n"
     ]
    }
   ],
   "source": [
    "s_forecast_64.drop(['new_date','forecast'], axis=1, inplace=True)"
   ]
  },
  {
   "cell_type": "code",
   "execution_count": 161,
   "metadata": {},
   "outputs": [],
   "source": [
    "result_64 = list()\n",
    "for i in range(724):\n",
    "    result_64.append(sum(s_real.loc[lis[i]] == s_forecast_64.iloc[i]))"
   ]
  },
  {
   "cell_type": "code",
   "execution_count": 162,
   "metadata": {},
   "outputs": [
    {
     "data": {
      "text/plain": [
       "20417"
      ]
     },
     "execution_count": 162,
     "metadata": {},
     "output_type": "execute_result"
    }
   ],
   "source": [
    "sum(result_64)"
   ]
  },
  {
   "cell_type": "code",
   "execution_count": 163,
   "metadata": {},
   "outputs": [],
   "source": [
    "whole = 724*30"
   ]
  },
  {
   "cell_type": "code",
   "execution_count": 164,
   "metadata": {},
   "outputs": [
    {
     "data": {
      "text/plain": [
       "94.00092081031308"
      ]
     },
     "execution_count": 164,
     "metadata": {},
     "output_type": "execute_result"
    }
   ],
   "source": [
    "sum(result_64)/whole*100"
   ]
  }
 ],
 "metadata": {
  "kernelspec": {
   "display_name": "Python 3",
   "language": "python",
   "name": "python3"
  },
  "language_info": {
   "codemirror_mode": {
    "name": "ipython",
    "version": 3
   },
   "file_extension": ".py",
   "mimetype": "text/x-python",
   "name": "python",
   "nbconvert_exporter": "python",
   "pygments_lexer": "ipython3",
   "version": "3.7.7"
  }
 },
 "nbformat": 4,
 "nbformat_minor": 4
}
