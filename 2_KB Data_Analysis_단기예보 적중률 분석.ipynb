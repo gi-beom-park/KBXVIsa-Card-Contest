{
 "cells": [
  {
   "cell_type": "markdown",
   "metadata": {},
   "source": [
    "# 기상청 단기예보 , 초단기실황 데이터 분석 (18.01~18.12)\n",
    "### 전처리과정 거친 데이터 사용해서 분석"
   ]
  },
  {
   "cell_type": "code",
   "execution_count": 179,
   "metadata": {},
   "outputs": [],
   "source": [
    "import pandas as pd\n",
    "import numpy as np\n",
    "import datetime as dt\n",
    "from datetime import datetime\n",
    "import time"
   ]
  },
  {
   "cell_type": "markdown",
   "metadata": {},
   "source": [
    "###  데이터 불러오기"
   ]
  },
  {
   "cell_type": "code",
   "execution_count": 182,
   "metadata": {},
   "outputs": [],
   "source": [
    "s_real= pd.read_csv('D:/INC/Desktop/공모전/KB 국민카드/기상데이터/s_real.csv' ,index_col='new_date')"
   ]
  },
  {
   "cell_type": "code",
   "execution_count": 183,
   "metadata": {},
   "outputs": [],
   "source": [
    "s_forecast= pd.read_csv('D:/INC/Desktop/공모전/KB 국민카드/기상데이터/s_forecast.csv')"
   ]
  },
  {
   "cell_type": "markdown",
   "metadata": {},
   "source": [
    "## 1) Naive 분석 ( 전체 데이터 중, '맑은'  시간대 비율)"
   ]
  },
  {
   "cell_type": "code",
   "execution_count": 184,
   "metadata": {},
   "outputs": [],
   "source": [
    "whole = len(s_real)*len(s_real.columns)\n",
    "\n",
    "rain_snow = sum(sum(s_real.values==1))\n",
    "good = sum(sum(s_real.values==0))\n",
    "\n",
    "good_ratio = good/whole*100 \n",
    "\n",
    "rain_snow_rati0 = (rain_snow)/whole*100\n"
   ]
  },
  {
   "cell_type": "code",
   "execution_count": 128,
   "metadata": {},
   "outputs": [
    {
     "data": {
      "text/html": [
       "<div>\n",
       "<style scoped>\n",
       "    .dataframe tbody tr th:only-of-type {\n",
       "        vertical-align: middle;\n",
       "    }\n",
       "\n",
       "    .dataframe tbody tr th {\n",
       "        vertical-align: top;\n",
       "    }\n",
       "\n",
       "    .dataframe thead th {\n",
       "        text-align: right;\n",
       "    }\n",
       "</style>\n",
       "<table border=\"1\" class=\"dataframe\">\n",
       "  <thead>\n",
       "    <tr style=\"text-align: right;\">\n",
       "      <th></th>\n",
       "      <th>s_57_125</th>\n",
       "      <th>s_57_126</th>\n",
       "      <th>s_57_127</th>\n",
       "      <th>s_58_124</th>\n",
       "      <th>s_58_125</th>\n",
       "      <th>s_58_126</th>\n",
       "      <th>s_58_127</th>\n",
       "      <th>s_59_124</th>\n",
       "      <th>s_59_125</th>\n",
       "      <th>s_59_126</th>\n",
       "      <th>...</th>\n",
       "      <th>s_61_128</th>\n",
       "      <th>s_61_129</th>\n",
       "      <th>s_62_125</th>\n",
       "      <th>s_62_126</th>\n",
       "      <th>s_62_127</th>\n",
       "      <th>s_62_128</th>\n",
       "      <th>s_62_129</th>\n",
       "      <th>s_63_125</th>\n",
       "      <th>s_63_126</th>\n",
       "      <th>s_63_127</th>\n",
       "    </tr>\n",
       "    <tr>\n",
       "      <th>new_date</th>\n",
       "      <th></th>\n",
       "      <th></th>\n",
       "      <th></th>\n",
       "      <th></th>\n",
       "      <th></th>\n",
       "      <th></th>\n",
       "      <th></th>\n",
       "      <th></th>\n",
       "      <th></th>\n",
       "      <th></th>\n",
       "      <th></th>\n",
       "      <th></th>\n",
       "      <th></th>\n",
       "      <th></th>\n",
       "      <th></th>\n",
       "      <th></th>\n",
       "      <th></th>\n",
       "      <th></th>\n",
       "      <th></th>\n",
       "      <th></th>\n",
       "      <th></th>\n",
       "    </tr>\n",
       "  </thead>\n",
       "  <tbody>\n",
       "    <tr>\n",
       "      <th>2018-01-01 00:00:00</th>\n",
       "      <td>0.0</td>\n",
       "      <td>0.0</td>\n",
       "      <td>0.0</td>\n",
       "      <td>0.0</td>\n",
       "      <td>0.0</td>\n",
       "      <td>0.0</td>\n",
       "      <td>0.0</td>\n",
       "      <td>0.0</td>\n",
       "      <td>0.0</td>\n",
       "      <td>0.0</td>\n",
       "      <td>...</td>\n",
       "      <td>0.0</td>\n",
       "      <td>0.0</td>\n",
       "      <td>0.0</td>\n",
       "      <td>0.0</td>\n",
       "      <td>0.0</td>\n",
       "      <td>0.0</td>\n",
       "      <td>0.0</td>\n",
       "      <td>0.0</td>\n",
       "      <td>0.0</td>\n",
       "      <td>0.0</td>\n",
       "    </tr>\n",
       "    <tr>\n",
       "      <th>2018-01-01 01:00:00</th>\n",
       "      <td>0.0</td>\n",
       "      <td>0.0</td>\n",
       "      <td>0.0</td>\n",
       "      <td>0.0</td>\n",
       "      <td>0.0</td>\n",
       "      <td>0.0</td>\n",
       "      <td>0.0</td>\n",
       "      <td>0.0</td>\n",
       "      <td>0.0</td>\n",
       "      <td>0.0</td>\n",
       "      <td>...</td>\n",
       "      <td>0.0</td>\n",
       "      <td>0.0</td>\n",
       "      <td>0.0</td>\n",
       "      <td>0.0</td>\n",
       "      <td>0.0</td>\n",
       "      <td>0.0</td>\n",
       "      <td>0.0</td>\n",
       "      <td>0.0</td>\n",
       "      <td>0.0</td>\n",
       "      <td>0.0</td>\n",
       "    </tr>\n",
       "    <tr>\n",
       "      <th>2018-01-01 02:00:00</th>\n",
       "      <td>0.0</td>\n",
       "      <td>0.0</td>\n",
       "      <td>0.0</td>\n",
       "      <td>0.0</td>\n",
       "      <td>0.0</td>\n",
       "      <td>0.0</td>\n",
       "      <td>0.0</td>\n",
       "      <td>0.0</td>\n",
       "      <td>0.0</td>\n",
       "      <td>0.0</td>\n",
       "      <td>...</td>\n",
       "      <td>0.0</td>\n",
       "      <td>0.0</td>\n",
       "      <td>0.0</td>\n",
       "      <td>0.0</td>\n",
       "      <td>0.0</td>\n",
       "      <td>0.0</td>\n",
       "      <td>0.0</td>\n",
       "      <td>0.0</td>\n",
       "      <td>0.0</td>\n",
       "      <td>0.0</td>\n",
       "    </tr>\n",
       "    <tr>\n",
       "      <th>2018-01-01 03:00:00</th>\n",
       "      <td>0.0</td>\n",
       "      <td>0.0</td>\n",
       "      <td>0.0</td>\n",
       "      <td>0.0</td>\n",
       "      <td>0.0</td>\n",
       "      <td>0.0</td>\n",
       "      <td>0.0</td>\n",
       "      <td>0.0</td>\n",
       "      <td>0.0</td>\n",
       "      <td>0.0</td>\n",
       "      <td>...</td>\n",
       "      <td>0.0</td>\n",
       "      <td>0.0</td>\n",
       "      <td>0.0</td>\n",
       "      <td>0.0</td>\n",
       "      <td>0.0</td>\n",
       "      <td>0.0</td>\n",
       "      <td>0.0</td>\n",
       "      <td>0.0</td>\n",
       "      <td>0.0</td>\n",
       "      <td>0.0</td>\n",
       "    </tr>\n",
       "    <tr>\n",
       "      <th>2018-01-01 04:00:00</th>\n",
       "      <td>0.0</td>\n",
       "      <td>0.0</td>\n",
       "      <td>0.0</td>\n",
       "      <td>0.0</td>\n",
       "      <td>0.0</td>\n",
       "      <td>0.0</td>\n",
       "      <td>0.0</td>\n",
       "      <td>0.0</td>\n",
       "      <td>0.0</td>\n",
       "      <td>0.0</td>\n",
       "      <td>...</td>\n",
       "      <td>0.0</td>\n",
       "      <td>0.0</td>\n",
       "      <td>0.0</td>\n",
       "      <td>0.0</td>\n",
       "      <td>0.0</td>\n",
       "      <td>0.0</td>\n",
       "      <td>0.0</td>\n",
       "      <td>0.0</td>\n",
       "      <td>0.0</td>\n",
       "      <td>0.0</td>\n",
       "    </tr>\n",
       "    <tr>\n",
       "      <th>...</th>\n",
       "      <td>...</td>\n",
       "      <td>...</td>\n",
       "      <td>...</td>\n",
       "      <td>...</td>\n",
       "      <td>...</td>\n",
       "      <td>...</td>\n",
       "      <td>...</td>\n",
       "      <td>...</td>\n",
       "      <td>...</td>\n",
       "      <td>...</td>\n",
       "      <td>...</td>\n",
       "      <td>...</td>\n",
       "      <td>...</td>\n",
       "      <td>...</td>\n",
       "      <td>...</td>\n",
       "      <td>...</td>\n",
       "      <td>...</td>\n",
       "      <td>...</td>\n",
       "      <td>...</td>\n",
       "      <td>...</td>\n",
       "      <td>...</td>\n",
       "    </tr>\n",
       "    <tr>\n",
       "      <th>2018-12-31 19:00:00</th>\n",
       "      <td>0.0</td>\n",
       "      <td>0.0</td>\n",
       "      <td>0.0</td>\n",
       "      <td>0.0</td>\n",
       "      <td>0.0</td>\n",
       "      <td>0.0</td>\n",
       "      <td>0.0</td>\n",
       "      <td>0.0</td>\n",
       "      <td>0.0</td>\n",
       "      <td>0.0</td>\n",
       "      <td>...</td>\n",
       "      <td>0.0</td>\n",
       "      <td>0.0</td>\n",
       "      <td>0.0</td>\n",
       "      <td>0.0</td>\n",
       "      <td>0.0</td>\n",
       "      <td>0.0</td>\n",
       "      <td>0.0</td>\n",
       "      <td>0.0</td>\n",
       "      <td>0.0</td>\n",
       "      <td>0.0</td>\n",
       "    </tr>\n",
       "    <tr>\n",
       "      <th>2018-12-31 20:00:00</th>\n",
       "      <td>0.0</td>\n",
       "      <td>0.0</td>\n",
       "      <td>0.0</td>\n",
       "      <td>0.0</td>\n",
       "      <td>0.0</td>\n",
       "      <td>0.0</td>\n",
       "      <td>0.0</td>\n",
       "      <td>0.0</td>\n",
       "      <td>0.0</td>\n",
       "      <td>0.0</td>\n",
       "      <td>...</td>\n",
       "      <td>0.0</td>\n",
       "      <td>0.0</td>\n",
       "      <td>0.0</td>\n",
       "      <td>0.0</td>\n",
       "      <td>0.0</td>\n",
       "      <td>0.0</td>\n",
       "      <td>0.0</td>\n",
       "      <td>0.0</td>\n",
       "      <td>0.0</td>\n",
       "      <td>0.0</td>\n",
       "    </tr>\n",
       "    <tr>\n",
       "      <th>2018-12-31 21:00:00</th>\n",
       "      <td>0.0</td>\n",
       "      <td>0.0</td>\n",
       "      <td>0.0</td>\n",
       "      <td>0.0</td>\n",
       "      <td>0.0</td>\n",
       "      <td>0.0</td>\n",
       "      <td>0.0</td>\n",
       "      <td>0.0</td>\n",
       "      <td>0.0</td>\n",
       "      <td>0.0</td>\n",
       "      <td>...</td>\n",
       "      <td>0.0</td>\n",
       "      <td>0.0</td>\n",
       "      <td>0.0</td>\n",
       "      <td>0.0</td>\n",
       "      <td>0.0</td>\n",
       "      <td>0.0</td>\n",
       "      <td>0.0</td>\n",
       "      <td>0.0</td>\n",
       "      <td>0.0</td>\n",
       "      <td>0.0</td>\n",
       "    </tr>\n",
       "    <tr>\n",
       "      <th>2018-12-31 22:00:00</th>\n",
       "      <td>0.0</td>\n",
       "      <td>0.0</td>\n",
       "      <td>0.0</td>\n",
       "      <td>0.0</td>\n",
       "      <td>0.0</td>\n",
       "      <td>0.0</td>\n",
       "      <td>0.0</td>\n",
       "      <td>0.0</td>\n",
       "      <td>0.0</td>\n",
       "      <td>0.0</td>\n",
       "      <td>...</td>\n",
       "      <td>0.0</td>\n",
       "      <td>0.0</td>\n",
       "      <td>0.0</td>\n",
       "      <td>0.0</td>\n",
       "      <td>0.0</td>\n",
       "      <td>0.0</td>\n",
       "      <td>0.0</td>\n",
       "      <td>0.0</td>\n",
       "      <td>0.0</td>\n",
       "      <td>0.0</td>\n",
       "    </tr>\n",
       "    <tr>\n",
       "      <th>2018-12-31 23:00:00</th>\n",
       "      <td>0.0</td>\n",
       "      <td>0.0</td>\n",
       "      <td>0.0</td>\n",
       "      <td>0.0</td>\n",
       "      <td>0.0</td>\n",
       "      <td>0.0</td>\n",
       "      <td>0.0</td>\n",
       "      <td>0.0</td>\n",
       "      <td>0.0</td>\n",
       "      <td>0.0</td>\n",
       "      <td>...</td>\n",
       "      <td>0.0</td>\n",
       "      <td>0.0</td>\n",
       "      <td>0.0</td>\n",
       "      <td>0.0</td>\n",
       "      <td>0.0</td>\n",
       "      <td>0.0</td>\n",
       "      <td>0.0</td>\n",
       "      <td>0.0</td>\n",
       "      <td>0.0</td>\n",
       "      <td>0.0</td>\n",
       "    </tr>\n",
       "  </tbody>\n",
       "</table>\n",
       "<p>8760 rows × 30 columns</p>\n",
       "</div>"
      ],
      "text/plain": [
       "                     s_57_125  s_57_126  s_57_127  s_58_124  s_58_125  \\\n",
       "new_date                                                                \n",
       "2018-01-01 00:00:00       0.0       0.0       0.0       0.0       0.0   \n",
       "2018-01-01 01:00:00       0.0       0.0       0.0       0.0       0.0   \n",
       "2018-01-01 02:00:00       0.0       0.0       0.0       0.0       0.0   \n",
       "2018-01-01 03:00:00       0.0       0.0       0.0       0.0       0.0   \n",
       "2018-01-01 04:00:00       0.0       0.0       0.0       0.0       0.0   \n",
       "...                       ...       ...       ...       ...       ...   \n",
       "2018-12-31 19:00:00       0.0       0.0       0.0       0.0       0.0   \n",
       "2018-12-31 20:00:00       0.0       0.0       0.0       0.0       0.0   \n",
       "2018-12-31 21:00:00       0.0       0.0       0.0       0.0       0.0   \n",
       "2018-12-31 22:00:00       0.0       0.0       0.0       0.0       0.0   \n",
       "2018-12-31 23:00:00       0.0       0.0       0.0       0.0       0.0   \n",
       "\n",
       "                     s_58_126  s_58_127  s_59_124  s_59_125  s_59_126  ...  \\\n",
       "new_date                                                               ...   \n",
       "2018-01-01 00:00:00       0.0       0.0       0.0       0.0       0.0  ...   \n",
       "2018-01-01 01:00:00       0.0       0.0       0.0       0.0       0.0  ...   \n",
       "2018-01-01 02:00:00       0.0       0.0       0.0       0.0       0.0  ...   \n",
       "2018-01-01 03:00:00       0.0       0.0       0.0       0.0       0.0  ...   \n",
       "2018-01-01 04:00:00       0.0       0.0       0.0       0.0       0.0  ...   \n",
       "...                       ...       ...       ...       ...       ...  ...   \n",
       "2018-12-31 19:00:00       0.0       0.0       0.0       0.0       0.0  ...   \n",
       "2018-12-31 20:00:00       0.0       0.0       0.0       0.0       0.0  ...   \n",
       "2018-12-31 21:00:00       0.0       0.0       0.0       0.0       0.0  ...   \n",
       "2018-12-31 22:00:00       0.0       0.0       0.0       0.0       0.0  ...   \n",
       "2018-12-31 23:00:00       0.0       0.0       0.0       0.0       0.0  ...   \n",
       "\n",
       "                     s_61_128  s_61_129  s_62_125  s_62_126  s_62_127  \\\n",
       "new_date                                                                \n",
       "2018-01-01 00:00:00       0.0       0.0       0.0       0.0       0.0   \n",
       "2018-01-01 01:00:00       0.0       0.0       0.0       0.0       0.0   \n",
       "2018-01-01 02:00:00       0.0       0.0       0.0       0.0       0.0   \n",
       "2018-01-01 03:00:00       0.0       0.0       0.0       0.0       0.0   \n",
       "2018-01-01 04:00:00       0.0       0.0       0.0       0.0       0.0   \n",
       "...                       ...       ...       ...       ...       ...   \n",
       "2018-12-31 19:00:00       0.0       0.0       0.0       0.0       0.0   \n",
       "2018-12-31 20:00:00       0.0       0.0       0.0       0.0       0.0   \n",
       "2018-12-31 21:00:00       0.0       0.0       0.0       0.0       0.0   \n",
       "2018-12-31 22:00:00       0.0       0.0       0.0       0.0       0.0   \n",
       "2018-12-31 23:00:00       0.0       0.0       0.0       0.0       0.0   \n",
       "\n",
       "                     s_62_128  s_62_129  s_63_125  s_63_126  s_63_127  \n",
       "new_date                                                               \n",
       "2018-01-01 00:00:00       0.0       0.0       0.0       0.0       0.0  \n",
       "2018-01-01 01:00:00       0.0       0.0       0.0       0.0       0.0  \n",
       "2018-01-01 02:00:00       0.0       0.0       0.0       0.0       0.0  \n",
       "2018-01-01 03:00:00       0.0       0.0       0.0       0.0       0.0  \n",
       "2018-01-01 04:00:00       0.0       0.0       0.0       0.0       0.0  \n",
       "...                       ...       ...       ...       ...       ...  \n",
       "2018-12-31 19:00:00       0.0       0.0       0.0       0.0       0.0  \n",
       "2018-12-31 20:00:00       0.0       0.0       0.0       0.0       0.0  \n",
       "2018-12-31 21:00:00       0.0       0.0       0.0       0.0       0.0  \n",
       "2018-12-31 22:00:00       0.0       0.0       0.0       0.0       0.0  \n",
       "2018-12-31 23:00:00       0.0       0.0       0.0       0.0       0.0  \n",
       "\n",
       "[8760 rows x 30 columns]"
      ]
     },
     "execution_count": 128,
     "metadata": {},
     "output_type": "execute_result"
    }
   ],
   "source": [
    "s_real"
   ]
  },
  {
   "cell_type": "markdown",
   "metadata": {},
   "source": [
    "## 2) forecast = 4 (4시간 뒤)에 대한 예측률"
   ]
  },
  {
   "cell_type": "markdown",
   "metadata": {},
   "source": [
    "### 예측값과 발표시간 값을 datetime 형식으로 더해줌으로써, forecast_date 형성"
   ]
  },
  {
   "cell_type": "code",
   "execution_count": 186,
   "metadata": {},
   "outputs": [
    {
     "name": "stderr",
     "output_type": "stream",
     "text": [
      "C:\\Users\\INC\\Anaconda3\\lib\\site-packages\\ipykernel_launcher.py:3: SettingWithCopyWarning: \n",
      "A value is trying to be set on a copy of a slice from a DataFrame.\n",
      "Try using .loc[row_indexer,col_indexer] = value instead\n",
      "\n",
      "See the caveats in the documentation: https://pandas.pydata.org/pandas-docs/stable/user_guide/indexing.html#returning-a-view-versus-a-copy\n",
      "  This is separate from the ipykernel package so we can avoid doing imports until\n",
      "C:\\Users\\INC\\Anaconda3\\lib\\site-packages\\ipykernel_launcher.py:6: SettingWithCopyWarning: \n",
      "A value is trying to be set on a copy of a slice from a DataFrame\n",
      "\n",
      "See the caveats in the documentation: https://pandas.pydata.org/pandas-docs/stable/user_guide/indexing.html#returning-a-view-versus-a-copy\n",
      "  \n"
     ]
    }
   ],
   "source": [
    "s_forecast_4= s_forecast[s_forecast['forecast'] == 4 ]\n",
    "\n",
    "s_forecast_4['forecast_date'] = dt.timedelta\n",
    "\n",
    "for i in range(0,len(s_forecast_4)):\n",
    "    s_forecast_4['forecast_date'].iloc[i] = pd.to_datetime(s_forecast_4['new_date'].iloc[i]) + dt.timedelta(hours = s_forecast_4['forecast'].iloc[i])\n",
    "    \n",
    "lis = list()\n",
    "for i in range(len(s_forecast_4)):\n",
    "    lis.append( str(s_forecast_4['forecast_date'].iloc[i]))\n",
    "       "
   ]
  },
  {
   "cell_type": "markdown",
   "metadata": {},
   "source": [
    "### forecast_date를 index로 설정"
   ]
  },
  {
   "cell_type": "code",
   "execution_count": 135,
   "metadata": {},
   "outputs": [],
   "source": [
    "s_forecast_4.set_index('forecast_date', drop=True ,append =False ,inplace=True)"
   ]
  },
  {
   "cell_type": "markdown",
   "metadata": {},
   "source": [
    "### 필요없는 column 제거"
   ]
  },
  {
   "cell_type": "code",
   "execution_count": 136,
   "metadata": {},
   "outputs": [
    {
     "name": "stderr",
     "output_type": "stream",
     "text": [
      "C:\\Users\\INC\\Anaconda3\\lib\\site-packages\\pandas\\core\\frame.py:3997: SettingWithCopyWarning: \n",
      "A value is trying to be set on a copy of a slice from a DataFrame\n",
      "\n",
      "See the caveats in the documentation: https://pandas.pydata.org/pandas-docs/stable/user_guide/indexing.html#returning-a-view-versus-a-copy\n",
      "  errors=errors,\n"
     ]
    }
   ],
   "source": [
    "s_forecast_4.drop(['new_date','forecast'], axis=1, inplace=True)"
   ]
  },
  {
   "cell_type": "markdown",
   "metadata": {},
   "source": [
    "### 2019년을 예측하는 데이터는 제외"
   ]
  },
  {
   "cell_type": "code",
   "execution_count": 140,
   "metadata": {},
   "outputs": [
    {
     "data": {
      "text/plain": [
       "'2019-01-01 00:00:00'"
      ]
     },
     "execution_count": 140,
     "metadata": {},
     "output_type": "execute_result"
    }
   ],
   "source": [
    "lis[2918]"
   ]
  },
  {
   "cell_type": "markdown",
   "metadata": {},
   "source": [
    "### 예측값과 실제값 비교하여, True값 result_4에 저장"
   ]
  },
  {
   "cell_type": "code",
   "execution_count": 141,
   "metadata": {},
   "outputs": [],
   "source": [
    "result_4 = list()\n",
    "for i in range(2918):\n",
    "    result_4.append(sum(s_real.loc[lis[i]] == s_forecast_4.iloc[i]))"
   ]
  },
  {
   "cell_type": "code",
   "execution_count": 142,
   "metadata": {},
   "outputs": [
    {
     "data": {
      "text/plain": [
       "81746"
      ]
     },
     "execution_count": 142,
     "metadata": {},
     "output_type": "execute_result"
    }
   ],
   "source": [
    "sum(result_4)"
   ]
  },
  {
   "cell_type": "code",
   "execution_count": 143,
   "metadata": {},
   "outputs": [],
   "source": [
    "whole = 30*2918"
   ]
  },
  {
   "cell_type": "markdown",
   "metadata": {},
   "source": [
    "### 예보 성공률 계산"
   ]
  },
  {
   "cell_type": "code",
   "execution_count": 144,
   "metadata": {},
   "outputs": [
    {
     "data": {
      "text/plain": [
       "93.38131140050263"
      ]
     },
     "execution_count": 144,
     "metadata": {},
     "output_type": "execute_result"
    }
   ],
   "source": [
    "sum(result_4)/whole*100"
   ]
  },
  {
   "cell_type": "markdown",
   "metadata": {},
   "source": [
    "### **예보 시간대에 따라, 예보 성공률 계산하는 과정은 위와 유사하므로 생략"
   ]
  }
 ],
 "metadata": {
  "kernelspec": {
   "display_name": "Python 3",
   "language": "python",
   "name": "python3"
  },
  "language_info": {
   "codemirror_mode": {
    "name": "ipython",
    "version": 3
   },
   "file_extension": ".py",
   "mimetype": "text/x-python",
   "name": "python",
   "nbconvert_exporter": "python",
   "pygments_lexer": "ipython3",
   "version": "3.7.7"
  }
 },
 "nbformat": 4,
 "nbformat_minor": 4
}
